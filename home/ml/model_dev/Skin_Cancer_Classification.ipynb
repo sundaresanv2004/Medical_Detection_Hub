{
 "cells": [
  {
   "cell_type": "code",
   "execution_count": 1,
   "id": "initial_id",
   "metadata": {
    "ExecuteTime": {
     "end_time": "2023-10-14T09:35:27.145983Z",
     "start_time": "2023-10-14T09:35:27.145890Z"
    },
    "collapsed": true
   },
   "outputs": [],
   "source": [
    "import pandas as pd\n",
    "import numpy as np\n",
    "from sklearn.preprocessing import StandardScaler"
   ]
  },
  {
   "cell_type": "code",
   "execution_count": 2,
   "id": "963ba15f631578ed",
   "metadata": {
    "ExecuteTime": {
     "end_time": "2023-10-14T09:35:30.170100Z",
     "start_time": "2023-10-14T09:35:29.332472Z"
    },
    "collapsed": false
   },
   "outputs": [
    {
     "data": {
      "text/html": [
       "<div>\n",
       "<style scoped>\n",
       "    .dataframe tbody tr th:only-of-type {\n",
       "        vertical-align: middle;\n",
       "    }\n",
       "\n",
       "    .dataframe tbody tr th {\n",
       "        vertical-align: top;\n",
       "    }\n",
       "\n",
       "    .dataframe thead th {\n",
       "        text-align: right;\n",
       "    }\n",
       "</style>\n",
       "<table border=\"1\" class=\"dataframe\">\n",
       "  <thead>\n",
       "    <tr style=\"text-align: right;\">\n",
       "      <th></th>\n",
       "      <th>pixel0000</th>\n",
       "      <th>pixel0001</th>\n",
       "      <th>pixel0002</th>\n",
       "      <th>pixel0003</th>\n",
       "      <th>pixel0004</th>\n",
       "      <th>pixel0005</th>\n",
       "      <th>pixel0006</th>\n",
       "      <th>pixel0007</th>\n",
       "      <th>pixel0008</th>\n",
       "      <th>pixel0009</th>\n",
       "      <th>...</th>\n",
       "      <th>pixel2343</th>\n",
       "      <th>pixel2344</th>\n",
       "      <th>pixel2345</th>\n",
       "      <th>pixel2346</th>\n",
       "      <th>pixel2347</th>\n",
       "      <th>pixel2348</th>\n",
       "      <th>pixel2349</th>\n",
       "      <th>pixel2350</th>\n",
       "      <th>pixel2351</th>\n",
       "      <th>label</th>\n",
       "    </tr>\n",
       "  </thead>\n",
       "  <tbody>\n",
       "    <tr>\n",
       "      <th>0</th>\n",
       "      <td>192</td>\n",
       "      <td>153</td>\n",
       "      <td>193</td>\n",
       "      <td>195</td>\n",
       "      <td>155</td>\n",
       "      <td>192</td>\n",
       "      <td>197</td>\n",
       "      <td>154</td>\n",
       "      <td>185</td>\n",
       "      <td>202</td>\n",
       "      <td>...</td>\n",
       "      <td>173</td>\n",
       "      <td>124</td>\n",
       "      <td>138</td>\n",
       "      <td>183</td>\n",
       "      <td>147</td>\n",
       "      <td>166</td>\n",
       "      <td>185</td>\n",
       "      <td>154</td>\n",
       "      <td>177</td>\n",
       "      <td>2</td>\n",
       "    </tr>\n",
       "    <tr>\n",
       "      <th>1</th>\n",
       "      <td>25</td>\n",
       "      <td>14</td>\n",
       "      <td>30</td>\n",
       "      <td>68</td>\n",
       "      <td>48</td>\n",
       "      <td>75</td>\n",
       "      <td>123</td>\n",
       "      <td>93</td>\n",
       "      <td>126</td>\n",
       "      <td>158</td>\n",
       "      <td>...</td>\n",
       "      <td>60</td>\n",
       "      <td>39</td>\n",
       "      <td>55</td>\n",
       "      <td>25</td>\n",
       "      <td>14</td>\n",
       "      <td>28</td>\n",
       "      <td>25</td>\n",
       "      <td>14</td>\n",
       "      <td>27</td>\n",
       "      <td>2</td>\n",
       "    </tr>\n",
       "    <tr>\n",
       "      <th>2</th>\n",
       "      <td>192</td>\n",
       "      <td>138</td>\n",
       "      <td>153</td>\n",
       "      <td>200</td>\n",
       "      <td>145</td>\n",
       "      <td>163</td>\n",
       "      <td>201</td>\n",
       "      <td>142</td>\n",
       "      <td>160</td>\n",
       "      <td>206</td>\n",
       "      <td>...</td>\n",
       "      <td>167</td>\n",
       "      <td>129</td>\n",
       "      <td>143</td>\n",
       "      <td>159</td>\n",
       "      <td>124</td>\n",
       "      <td>142</td>\n",
       "      <td>136</td>\n",
       "      <td>104</td>\n",
       "      <td>117</td>\n",
       "      <td>2</td>\n",
       "    </tr>\n",
       "    <tr>\n",
       "      <th>3</th>\n",
       "      <td>38</td>\n",
       "      <td>19</td>\n",
       "      <td>30</td>\n",
       "      <td>95</td>\n",
       "      <td>59</td>\n",
       "      <td>72</td>\n",
       "      <td>143</td>\n",
       "      <td>103</td>\n",
       "      <td>119</td>\n",
       "      <td>171</td>\n",
       "      <td>...</td>\n",
       "      <td>44</td>\n",
       "      <td>26</td>\n",
       "      <td>36</td>\n",
       "      <td>25</td>\n",
       "      <td>12</td>\n",
       "      <td>17</td>\n",
       "      <td>25</td>\n",
       "      <td>12</td>\n",
       "      <td>15</td>\n",
       "      <td>2</td>\n",
       "    </tr>\n",
       "    <tr>\n",
       "      <th>4</th>\n",
       "      <td>158</td>\n",
       "      <td>113</td>\n",
       "      <td>139</td>\n",
       "      <td>194</td>\n",
       "      <td>144</td>\n",
       "      <td>174</td>\n",
       "      <td>215</td>\n",
       "      <td>162</td>\n",
       "      <td>191</td>\n",
       "      <td>225</td>\n",
       "      <td>...</td>\n",
       "      <td>209</td>\n",
       "      <td>166</td>\n",
       "      <td>185</td>\n",
       "      <td>172</td>\n",
       "      <td>135</td>\n",
       "      <td>149</td>\n",
       "      <td>109</td>\n",
       "      <td>78</td>\n",
       "      <td>92</td>\n",
       "      <td>2</td>\n",
       "    </tr>\n",
       "  </tbody>\n",
       "</table>\n",
       "<p>5 rows × 2353 columns</p>\n",
       "</div>"
      ],
      "text/plain": [
       "   pixel0000  pixel0001  pixel0002  pixel0003  pixel0004  pixel0005  \\\n",
       "0        192        153        193        195        155        192   \n",
       "1         25         14         30         68         48         75   \n",
       "2        192        138        153        200        145        163   \n",
       "3         38         19         30         95         59         72   \n",
       "4        158        113        139        194        144        174   \n",
       "\n",
       "   pixel0006  pixel0007  pixel0008  pixel0009  ...  pixel2343  pixel2344  \\\n",
       "0        197        154        185        202  ...        173        124   \n",
       "1        123         93        126        158  ...         60         39   \n",
       "2        201        142        160        206  ...        167        129   \n",
       "3        143        103        119        171  ...         44         26   \n",
       "4        215        162        191        225  ...        209        166   \n",
       "\n",
       "   pixel2345  pixel2346  pixel2347  pixel2348  pixel2349  pixel2350  \\\n",
       "0        138        183        147        166        185        154   \n",
       "1         55         25         14         28         25         14   \n",
       "2        143        159        124        142        136        104   \n",
       "3         36         25         12         17         25         12   \n",
       "4        185        172        135        149        109         78   \n",
       "\n",
       "   pixel2351  label  \n",
       "0        177      2  \n",
       "1         27      2  \n",
       "2        117      2  \n",
       "3         15      2  \n",
       "4         92      2  \n",
       "\n",
       "[5 rows x 2353 columns]"
      ]
     },
     "execution_count": 2,
     "metadata": {},
     "output_type": "execute_result"
    }
   ],
   "source": [
    "path = 'Skin_Cancer/hmnist_28_28_RGB.csv'\n",
    "df = pd.read_csv(path)\n",
    "df.head()"
   ]
  },
  {
   "cell_type": "markdown",
   "id": "60bad40d497efd85",
   "metadata": {
    "collapsed": false
   },
   "source": [
    "### Train Test Split\n"
   ]
  },
  {
   "cell_type": "code",
   "execution_count": 6,
   "id": "bb5fef562485a926",
   "metadata": {
    "ExecuteTime": {
     "end_time": "2023-10-14T09:36:16.869604Z",
     "start_time": "2023-10-14T09:36:16.817826Z"
    },
    "collapsed": false
   },
   "outputs": [
    {
     "name": "stderr",
     "output_type": "stream",
     "text": [
      "/Users/sundar/miniforge3/envs/myenv/lib/python3.9/site-packages/numpy/core/fromnumeric.py:59: FutureWarning: 'DataFrame.swapaxes' is deprecated and will be removed in a future version. Please use 'DataFrame.transpose' instead.\n",
      "  return bound(*args, **kwds)\n"
     ]
    }
   ],
   "source": [
    "fractions = np.array([0.8, 0.2])\n",
    "df = df.sample(frac=1)\n",
    "train_set, test_set = np.array_split(\n",
    "    df, (fractions[:-1].cumsum() * len(df)).astype(int))"
   ]
  },
  {
   "cell_type": "code",
   "execution_count": 7,
   "id": "1e0e3940eae567f0",
   "metadata": {
    "ExecuteTime": {
     "end_time": "2023-10-14T09:36:31.527313Z",
     "start_time": "2023-10-14T09:36:31.522680Z"
    },
    "collapsed": false
   },
   "outputs": [
    {
     "name": "stdout",
     "output_type": "stream",
     "text": [
      "8012\n",
      "2003\n"
     ]
    }
   ],
   "source": [
    "print(len(train_set))\n",
    "print(len(test_set))"
   ]
  },
  {
   "cell_type": "code",
   "execution_count": 8,
   "id": "f45ddc4e67330cc8",
   "metadata": {
    "ExecuteTime": {
     "end_time": "2023-10-14T09:36:38.414188Z",
     "start_time": "2023-10-14T09:36:38.402597Z"
    },
    "collapsed": false
   },
   "outputs": [
    {
     "data": {
      "text/plain": [
       "array([4, 2, 5, 0, 6, 1, 3])"
      ]
     },
     "execution_count": 8,
     "metadata": {},
     "output_type": "execute_result"
    }
   ],
   "source": [
    "df.label.unique()"
   ]
  },
  {
   "cell_type": "code",
   "execution_count": 9,
   "id": "8a17ee5d6e0a7314",
   "metadata": {
    "ExecuteTime": {
     "end_time": "2023-10-14T09:36:57.126824Z",
     "start_time": "2023-10-14T09:36:57.113021Z"
    },
    "collapsed": false
   },
   "outputs": [],
   "source": [
    "classes = {0: ('akiec', 'actinic keratoses and intraepithelial carcinomae'),\n",
    "           1: ('bcc', 'basal cell carcinoma'),\n",
    "           2: ('bkl', 'benign keratosis-like lesions'),\n",
    "           3: ('df', 'dermatofibroma'),\n",
    "           4: ('nv', ' melanocytic nevi'),\n",
    "           5: ('vasc', ' pyogenic granulomas and hemorrhage'),\n",
    "           6: ('mel', 'melanoma'), }"
   ]
  },
  {
   "cell_type": "code",
   "execution_count": 10,
   "id": "29900a82ea3a5261",
   "metadata": {
    "ExecuteTime": {
     "end_time": "2023-10-14T09:37:04.378538Z",
     "start_time": "2023-10-14T09:37:04.344497Z"
    },
    "collapsed": false
   },
   "outputs": [],
   "source": [
    "y_train = train_set['label']\n",
    "x_train = train_set.drop(columns=['label'])\n",
    "y_test = test_set['label']\n",
    "x_test = test_set.drop(columns=['label'])\n",
    "\n",
    "columns = list(x_train)"
   ]
  },
  {
   "cell_type": "code",
   "execution_count": 12,
   "id": "83e0b904d4bf95e5",
   "metadata": {
    "ExecuteTime": {
     "end_time": "2023-10-14T09:41:09.936154Z",
     "start_time": "2023-10-14T09:41:09.931374Z"
    },
    "collapsed": false
   },
   "outputs": [
    {
     "name": "stdout",
     "output_type": "stream",
     "text": [
      "mps\n"
     ]
    }
   ],
   "source": [
    "import torch\n",
    "device = torch.device(\"mps\" if torch.ones(1, device=\"mps\") else \"cpu\")\n",
    "print(device)"
   ]
  },
  {
   "cell_type": "code",
   "execution_count": null,
   "id": "660a21b365db4f11",
   "metadata": {
    "ExecuteTime": {
     "end_time": "2023-10-14T09:41:52.462797Z",
     "start_time": "2023-10-14T09:41:29.652825Z"
    },
    "collapsed": false
   },
   "outputs": [],
   "source": [
    "import seaborn as sns\n",
    "\n",
    "sns.countplot(train_set['label'])"
   ]
  },
  {
   "cell_type": "code",
   "execution_count": 14,
   "id": "7b609d5ebf16356e",
   "metadata": {
    "ExecuteTime": {
     "end_time": "2023-10-14T09:43:20.867613Z",
     "start_time": "2023-10-14T09:43:18.847601Z"
    },
    "collapsed": false
   },
   "outputs": [],
   "source": [
    "from imblearn.over_sampling import RandomOverSampler\n",
    "oversample = RandomOverSampler()\n",
    "x_train, y_train = oversample.fit_resample(x_train, y_train)\n",
    "x_test, y_test = oversample.fit_resample(x_test, y_test)"
   ]
  },
  {
   "cell_type": "code",
   "execution_count": null,
   "id": "181af13d3eded853",
   "metadata": {
    "ExecuteTime": {
     "end_time": "2023-10-14T09:45:10.567251Z",
     "start_time": "2023-10-14T09:43:29.896216Z"
    },
    "collapsed": false
   },
   "outputs": [],
   "source": [
    "sns.countplot(y_train)"
   ]
  },
  {
   "cell_type": "code",
   "execution_count": 58,
   "id": "edcef634f5509dd0",
   "metadata": {
    "ExecuteTime": {
     "end_time": "2023-10-14T09:45:11.190671Z",
     "start_time": "2023-10-14T09:45:10.568054Z"
    },
    "collapsed": false
   },
   "outputs": [
    {
     "data": {
      "image/png": "[encoded data removed]",
      "text/plain": [
       "<Figure size 640x480 with 1 Axes>"
      ]
     },
     "metadata": {},
     "output_type": "display_data"
    },
    {
     "data": {
      "image/png": "[encoded data removed]",
      "text/plain": [
       "<Figure size 640x480 with 1 Axes>"
      ]
     },
     "metadata": {},
     "output_type": "display_data"
    },
    {
     "data": {
      "image/png": "[encoded data removed]",
      "text/plain": [
       "<Figure size 640x480 with 1 Axes>"
      ]
     },
     "metadata": {},
     "output_type": "display_data"
    }
   ],
   "source": [
    "import matplotlib.pyplot as plt\n",
    "import random\n",
    "num = random.randint(0, 8000)\n",
    "x_train = np.array(x_train, dtype=np.uint8).reshape(-1, 28, 28, 3)\n",
    "\n",
    "plt.imshow(x_train[num].reshape(28, 28, 3))\n",
    "plt.title(\"Random image from training data\")\n",
    "plt.show()\n",
    "num = random.randint(0, 8000)\n",
    "plt.imshow(x_train[num].reshape(28, 28, 3))\n",
    "plt.title(\"Random image from training data\")\n",
    "plt.show()\n",
    "\n",
    "num = random.randint(0, 8000)\n",
    "plt.imshow(x_train[num].reshape(28, 28, 3))\n",
    "plt.title(\"Random image from training data\")\n",
    "plt.show()"
   ]
  },
  {
   "cell_type": "code",
   "execution_count": 59,
   "id": "4673f4a380b9f600",
   "metadata": {
    "ExecuteTime": {
     "end_time": "2023-10-14T09:45:19.429906Z",
     "start_time": "2023-10-14T09:45:11.189690Z"
    },
    "collapsed": false
   },
   "outputs": [],
   "source": [
    "from tensorflow.keras.models import Sequential\n",
    "from tensorflow.keras.layers import Conv2D, Flatten, Dense, MaxPool2D\n",
    "import tensorflow as tf"
   ]
  },
  {
   "cell_type": "code",
   "execution_count": 60,
   "id": "ecffd70e4c05f9e1",
   "metadata": {
    "ExecuteTime": {
     "end_time": "2023-10-14T09:45:20.912061Z",
     "start_time": "2023-10-14T09:45:19.433959Z"
    },
    "collapsed": false
   },
   "outputs": [
    {
     "name": "stdout",
     "output_type": "stream",
     "text": [
      "Model: \"sequential_2\"\n",
      "_________________________________________________________________\n",
      " Layer (type)                Output Shape              Param #   \n",
      "=================================================================\n",
      " conv2d_10 (Conv2D)          (None, 28, 28, 16)        448       \n",
      "                                                                 \n",
      " max_pooling2d_4 (MaxPoolin  (None, 14, 14, 16)        0         \n",
      " g2D)                                                            \n",
      "                                                                 \n",
      " batch_normalization_12 (Ba  (None, 14, 14, 16)        64        \n",
      " tchNormalization)                                               \n",
      "                                                                 \n",
      " conv2d_11 (Conv2D)          (None, 12, 12, 32)        4640      \n",
      "                                                                 \n",
      " conv2d_12 (Conv2D)          (None, 10, 10, 64)        18496     \n",
      "                                                                 \n",
      " max_pooling2d_5 (MaxPoolin  (None, 5, 5, 64)          0         \n",
      " g2D)                                                            \n",
      "                                                                 \n",
      " batch_normalization_13 (Ba  (None, 5, 5, 64)          256       \n",
      " tchNormalization)                                               \n",
      "                                                                 \n",
      " conv2d_13 (Conv2D)          (None, 3, 3, 128)         73856     \n",
      "                                                                 \n",
      " conv2d_14 (Conv2D)          (None, 1, 1, 256)         295168    \n",
      "                                                                 \n",
      " flatten_2 (Flatten)         (None, 256)               0         \n",
      "                                                                 \n",
      " dropout_6 (Dropout)         (None, 256)               0         \n",
      "                                                                 \n",
      " dense_10 (Dense)            (None, 256)               65792     \n",
      "                                                                 \n",
      " batch_normalization_14 (Ba  (None, 256)               1024      \n",
      " tchNormalization)                                               \n",
      "                                                                 \n",
      " dropout_7 (Dropout)         (None, 256)               0         \n",
      "                                                                 \n",
      " dense_11 (Dense)            (None, 128)               32896     \n",
      "                                                                 \n",
      " batch_normalization_15 (Ba  (None, 128)               512       \n",
      " tchNormalization)                                               \n",
      "                                                                 \n",
      " dense_12 (Dense)            (None, 64)                8256      \n",
      "                                                                 \n",
      " batch_normalization_16 (Ba  (None, 64)                256       \n",
      " tchNormalization)                                               \n",
      "                                                                 \n",
      " dropout_8 (Dropout)         (None, 64)                0         \n",
      "                                                                 \n",
      " dense_13 (Dense)            (None, 32)                2080      \n",
      "                                                                 \n",
      " batch_normalization_17 (Ba  (None, 32)                128       \n",
      " tchNormalization)                                               \n",
      "                                                                 \n",
      " dense_14 (Dense)            (None, 7)                 231       \n",
      "                                                                 \n",
      "=================================================================\n",
      "Total params: 504103 (1.92 MB)\n",
      "Trainable params: 502983 (1.92 MB)\n",
      "Non-trainable params: 1120 (4.38 KB)\n",
      "_________________________________________________________________\n"
     ]
    }
   ],
   "source": [
    "model = Sequential()\n",
    "model.add(Conv2D(16, kernel_size=(3, 3), input_shape=(\n",
    "    28, 28, 3), activation='relu', padding='same'))\n",
    "model.add(MaxPool2D(pool_size=(2, 2)))\n",
    "model.add(tf.keras.layers.BatchNormalization())\n",
    "\n",
    "model.add(Conv2D(32, kernel_size=(3, 3), activation='relu'))\n",
    "model.add(Conv2D(64, kernel_size=(3, 3), activation='relu'))\n",
    "\n",
    "model.add(MaxPool2D(pool_size=(2, 2)))\n",
    "\n",
    "model.add(tf.keras.layers.BatchNormalization())\n",
    "\n",
    "model.add(Conv2D(128, kernel_size=(3, 3), activation='relu'))\n",
    "model.add(Conv2D(256, kernel_size=(3, 3), activation='relu'))\n",
    "\n",
    "model.add(Flatten())\n",
    "model.add(tf.keras.layers.Dropout(0.2))\n",
    "model.add(Dense(256, activation='relu'))\n",
    "\n",
    "model.add(tf.keras.layers.BatchNormalization())\n",
    "model.add(tf.keras.layers.Dropout(0.2))\n",
    "model.add(Dense(128, activation='relu'))\n",
    "\n",
    "model.add(tf.keras.layers.BatchNormalization())\n",
    "model.add(Dense(64, activation='relu'))\n",
    "\n",
    "model.add(tf.keras.layers.BatchNormalization())\n",
    "model.add(tf.keras.layers.Dropout(0.2))\n",
    "model.add(Dense(32, activation='relu'))\n",
    "\n",
    "model.add(tf.keras.layers.BatchNormalization())\n",
    "model.add(Dense(7, activation='softmax'))\n",
    "\n",
    "model.summary()"
   ]
  },
  {
   "cell_type": "code",
   "execution_count": null,
   "id": "06ec70b7",
   "metadata": {},
   "outputs": [],
   "source": []
  },
  {
   "cell_type": "code",
   "execution_count": 61,
   "id": "a3f406644e90a02d",
   "metadata": {
    "ExecuteTime": {
     "end_time": "2023-10-14T09:46:47.030839Z",
     "start_time": "2023-10-14T09:46:47.026166Z"
    },
    "collapsed": false
   },
   "outputs": [],
   "source": [
    "callback = tf.keras.callbacks.ModelCheckpoint(filepath='best_model.h5',\n",
    "                                              monitor='val_acc',\n",
    "                                              mode='max',\n",
    "                                              verbose=3,\n",
    "                                              save_best_only=True\n",
    "                                              )"
   ]
  },
  {
   "cell_type": "code",
   "execution_count": 62,
   "id": "e985bd732ddd1457",
   "metadata": {
    "ExecuteTime": {
     "end_time": "2023-10-14T09:46:49.090611Z",
     "start_time": "2023-10-14T09:46:49.072100Z"
    },
    "collapsed": false
   },
   "outputs": [
    {
     "name": "stderr",
     "output_type": "stream",
     "text": [
      "WARNING:absl:At this time, the v2.11+ optimizer `tf.keras.optimizers.Adam` runs slowly on M1/M2 Macs, please use the legacy Keras optimizer instead, located at `tf.keras.optimizers.legacy.Adam`.\n",
      "WARNING:absl:`lr` is deprecated in Keras optimizer, please use `learning_rate` or use the legacy optimizer, e.g.,tf.keras.optimizers.legacy.Adam.\n",
      "WARNING:absl:There is a known slowdown when using v2.11+ Keras optimizers on M1/M2 Macs. Falling back to the legacy Keras optimizer, i.e., `tf.keras.optimizers.legacy.Adam`.\n"
     ]
    }
   ],
   "source": [
    "optimizer = tf.keras.optimizers.Adam(lr=0.001)\n",
    "\n",
    "model.compile(loss='sparse_categorical_crossentropy',\n",
    "              optimizer=optimizer,\n",
    "              metrics=['accuracy'])"
   ]
  },
  {
   "cell_type": "code",
   "execution_count": 63,
   "id": "38d3dcc3ab2e7e9a",
   "metadata": {
    "ExecuteTime": {
     "end_time": "2023-10-14T09:52:06.266239Z",
     "start_time": "2023-10-14T09:46:54.918573Z"
    },
    "collapsed": false
   },
   "outputs": [
    {
     "name": "stdout",
     "output_type": "stream",
     "text": [
      "Epoch 1/100\n",
      "236/236 [==============================] - ETA: 0s - loss: 1.3151 - accuracy: 0.5184WARNING:tensorflow:Can save best model only with val_acc available, skipping.\n"
     ]
    },
    {
     "name": "stderr",
     "output_type": "stream",
     "text": [
      "WARNING:tensorflow:Can save best model only with val_acc available, skipping.\n"
     ]
    },
    {
     "name": "stdout",
     "output_type": "stream",
     "text": [
      "236/236 [==============================] - 24s 63ms/step - loss: 1.3151 - accuracy: 0.5184 - val_loss: 2.4643 - val_accuracy: 0.1892\n",
      "Epoch 2/100\n",
      "235/236 [============================>.] - ETA: 0s - loss: 0.5205 - accuracy: 0.8377WARNING:tensorflow:Can save best model only with val_acc available, skipping.\n"
     ]
    },
    {
     "name": "stderr",
     "output_type": "stream",
     "text": [
      "WARNING:tensorflow:Can save best model only with val_acc available, skipping.\n"
     ]
    },
    {
     "name": "stdout",
     "output_type": "stream",
     "text": [
      "236/236 [==============================] - 6s 26ms/step - loss: 0.5203 - accuracy: 0.8378 - val_loss: 1.6187 - val_accuracy: 0.3799\n",
      "Epoch 3/100\n",
      "235/236 [============================>.] - ETA: 0s - loss: 0.2997 - accuracy: 0.9048WARNING:tensorflow:Can save best model only with val_acc available, skipping.\n"
     ]
    },
    {
     "name": "stderr",
     "output_type": "stream",
     "text": [
      "WARNING:tensorflow:Can save best model only with val_acc available, skipping.\n"
     ]
    },
    {
     "name": "stdout",
     "output_type": "stream",
     "text": [
      "236/236 [==============================] - 6s 27ms/step - loss: 0.2997 - accuracy: 0.9048 - val_loss: 1.4791 - val_accuracy: 0.4044\n",
      "Epoch 4/100\n",
      "236/236 [==============================] - ETA: 0s - loss: 0.2102 - accuracy: 0.9306WARNING:tensorflow:Can save best model only with val_acc available, skipping.\n"
     ]
    },
    {
     "name": "stderr",
     "output_type": "stream",
     "text": [
      "WARNING:tensorflow:Can save best model only with val_acc available, skipping.\n"
     ]
    },
    {
     "name": "stdout",
     "output_type": "stream",
     "text": [
      "236/236 [==============================] - 6s 27ms/step - loss: 0.2102 - accuracy: 0.9306 - val_loss: 1.2914 - val_accuracy: 0.4645\n",
      "Epoch 5/100\n",
      "234/236 [============================>.] - ETA: 0s - loss: 0.1502 - accuracy: 0.9497WARNING:tensorflow:Can save best model only with val_acc available, skipping.\n"
     ]
    },
    {
     "name": "stderr",
     "output_type": "stream",
     "text": [
      "WARNING:tensorflow:Can save best model only with val_acc available, skipping.\n"
     ]
    },
    {
     "name": "stdout",
     "output_type": "stream",
     "text": [
      "236/236 [==============================] - 6s 27ms/step - loss: 0.1502 - accuracy: 0.9496 - val_loss: 0.6191 - val_accuracy: 0.7293\n",
      "Epoch 6/100\n",
      "235/236 [============================>.] - ETA: 0s - loss: 0.1241 - accuracy: 0.9579WARNING:tensorflow:Can save best model only with val_acc available, skipping.\n"
     ]
    },
    {
     "name": "stderr",
     "output_type": "stream",
     "text": [
      "WARNING:tensorflow:Can save best model only with val_acc available, skipping.\n"
     ]
    },
    {
     "name": "stdout",
     "output_type": "stream",
     "text": [
      "236/236 [==============================] - 6s 26ms/step - loss: 0.1241 - accuracy: 0.9579 - val_loss: 1.0552 - val_accuracy: 0.5597\n",
      "Epoch 7/100\n",
      "236/236 [==============================] - ETA: 0s - loss: 0.1051 - accuracy: 0.9636WARNING:tensorflow:Can save best model only with val_acc available, skipping.\n"
     ]
    },
    {
     "name": "stderr",
     "output_type": "stream",
     "text": [
      "WARNING:tensorflow:Can save best model only with val_acc available, skipping.\n"
     ]
    },
    {
     "name": "stdout",
     "output_type": "stream",
     "text": [
      "236/236 [==============================] - 6s 26ms/step - loss: 0.1051 - accuracy: 0.9636 - val_loss: 0.7300 - val_accuracy: 0.6735\n",
      "Epoch 8/100\n",
      "235/236 [============================>.] - ETA: 0s - loss: 0.0907 - accuracy: 0.9680WARNING:tensorflow:Can save best model only with val_acc available, skipping.\n"
     ]
    },
    {
     "name": "stderr",
     "output_type": "stream",
     "text": [
      "WARNING:tensorflow:Can save best model only with val_acc available, skipping.\n"
     ]
    },
    {
     "name": "stdout",
     "output_type": "stream",
     "text": [
      "236/236 [==============================] - 6s 26ms/step - loss: 0.0908 - accuracy: 0.9679 - val_loss: 0.9809 - val_accuracy: 0.5874\n",
      "Epoch 9/100\n",
      "236/236 [==============================] - ETA: 0s - loss: 0.0875 - accuracy: 0.9697WARNING:tensorflow:Can save best model only with val_acc available, skipping.\n"
     ]
    },
    {
     "name": "stderr",
     "output_type": "stream",
     "text": [
      "WARNING:tensorflow:Can save best model only with val_acc available, skipping.\n"
     ]
    },
    {
     "name": "stdout",
     "output_type": "stream",
     "text": [
      "236/236 [==============================] - 6s 26ms/step - loss: 0.0875 - accuracy: 0.9697 - val_loss: 0.3992 - val_accuracy: 0.8193\n",
      "Epoch 10/100\n",
      "236/236 [==============================] - ETA: 0s - loss: 0.0596 - accuracy: 0.9796WARNING:tensorflow:Can save best model only with val_acc available, skipping.\n"
     ]
    },
    {
     "name": "stderr",
     "output_type": "stream",
     "text": [
      "WARNING:tensorflow:Can save best model only with val_acc available, skipping.\n"
     ]
    },
    {
     "name": "stdout",
     "output_type": "stream",
     "text": [
      "236/236 [==============================] - 6s 27ms/step - loss: 0.0596 - accuracy: 0.9796 - val_loss: 0.6506 - val_accuracy: 0.6765\n",
      "Epoch 11/100\n",
      "236/236 [==============================] - ETA: 0s - loss: 0.0783 - accuracy: 0.9727WARNING:tensorflow:Can save best model only with val_acc available, skipping.\n"
     ]
    },
    {
     "name": "stderr",
     "output_type": "stream",
     "text": [
      "WARNING:tensorflow:Can save best model only with val_acc available, skipping.\n"
     ]
    },
    {
     "name": "stdout",
     "output_type": "stream",
     "text": [
      "236/236 [==============================] - 6s 26ms/step - loss: 0.0783 - accuracy: 0.9727 - val_loss: 0.8726 - val_accuracy: 0.6182\n",
      "Epoch 12/100\n",
      "235/236 [============================>.] - ETA: 0s - loss: 0.0486 - accuracy: 0.9826WARNING:tensorflow:Can save best model only with val_acc available, skipping.\n"
     ]
    },
    {
     "name": "stderr",
     "output_type": "stream",
     "text": [
      "WARNING:tensorflow:Can save best model only with val_acc available, skipping.\n"
     ]
    },
    {
     "name": "stdout",
     "output_type": "stream",
     "text": [
      "236/236 [==============================] - 6s 27ms/step - loss: 0.0489 - accuracy: 0.9825 - val_loss: 0.2528 - val_accuracy: 0.9063\n",
      "Epoch 13/100\n",
      "235/236 [============================>.] - ETA: 0s - loss: 0.0603 - accuracy: 0.9802WARNING:tensorflow:Can save best model only with val_acc available, skipping.\n"
     ]
    },
    {
     "name": "stderr",
     "output_type": "stream",
     "text": [
      "WARNING:tensorflow:Can save best model only with val_acc available, skipping.\n"
     ]
    },
    {
     "name": "stdout",
     "output_type": "stream",
     "text": [
      "236/236 [==============================] - 6s 26ms/step - loss: 0.0603 - accuracy: 0.9802 - val_loss: 0.2354 - val_accuracy: 0.9156\n",
      "Epoch 14/100\n",
      "235/236 [============================>.] - ETA: 0s - loss: 0.0455 - accuracy: 0.9850WARNING:tensorflow:Can save best model only with val_acc available, skipping.\n"
     ]
    },
    {
     "name": "stderr",
     "output_type": "stream",
     "text": [
      "WARNING:tensorflow:Can save best model only with val_acc available, skipping.\n"
     ]
    },
    {
     "name": "stdout",
     "output_type": "stream",
     "text": [
      "236/236 [==============================] - 6s 26ms/step - loss: 0.0456 - accuracy: 0.9849 - val_loss: 0.5206 - val_accuracy: 0.8161\n",
      "Epoch 15/100\n",
      "235/236 [============================>.] - ETA: 0s - loss: 0.0703 - accuracy: 0.9766WARNING:tensorflow:Can save best model only with val_acc available, skipping.\n"
     ]
    },
    {
     "name": "stderr",
     "output_type": "stream",
     "text": [
      "WARNING:tensorflow:Can save best model only with val_acc available, skipping.\n"
     ]
    },
    {
     "name": "stdout",
     "output_type": "stream",
     "text": [
      "236/236 [==============================] - 6s 26ms/step - loss: 0.0703 - accuracy: 0.9766 - val_loss: 0.3754 - val_accuracy: 0.8583\n",
      "Epoch 16/100\n",
      "236/236 [==============================] - ETA: 0s - loss: 0.0297 - accuracy: 0.9909WARNING:tensorflow:Can save best model only with val_acc available, skipping.\n"
     ]
    },
    {
     "name": "stderr",
     "output_type": "stream",
     "text": [
      "WARNING:tensorflow:Can save best model only with val_acc available, skipping.\n"
     ]
    },
    {
     "name": "stdout",
     "output_type": "stream",
     "text": [
      "236/236 [==============================] - 6s 27ms/step - loss: 0.0297 - accuracy: 0.9909 - val_loss: 0.2090 - val_accuracy: 0.9277\n",
      "Epoch 17/100\n",
      "236/236 [==============================] - ETA: 0s - loss: 0.0251 - accuracy: 0.9924WARNING:tensorflow:Can save best model only with val_acc available, skipping.\n"
     ]
    },
    {
     "name": "stderr",
     "output_type": "stream",
     "text": [
      "WARNING:tensorflow:Can save best model only with val_acc available, skipping.\n"
     ]
    },
    {
     "name": "stdout",
     "output_type": "stream",
     "text": [
      "236/236 [==============================] - 6s 27ms/step - loss: 0.0251 - accuracy: 0.9924 - val_loss: 0.2549 - val_accuracy: 0.9096\n",
      "Epoch 18/100\n",
      "235/236 [============================>.] - ETA: 0s - loss: 0.0218 - accuracy: 0.9935WARNING:tensorflow:Can save best model only with val_acc available, skipping.\n"
     ]
    },
    {
     "name": "stderr",
     "output_type": "stream",
     "text": [
      "WARNING:tensorflow:Can save best model only with val_acc available, skipping.\n"
     ]
    },
    {
     "name": "stdout",
     "output_type": "stream",
     "text": [
      "236/236 [==============================] - 6s 27ms/step - loss: 0.0218 - accuracy: 0.9935 - val_loss: 0.0899 - val_accuracy: 0.9717\n",
      "Epoch 19/100\n",
      "236/236 [==============================] - ETA: 0s - loss: 0.0302 - accuracy: 0.9907WARNING:tensorflow:Can save best model only with val_acc available, skipping.\n"
     ]
    },
    {
     "name": "stderr",
     "output_type": "stream",
     "text": [
      "WARNING:tensorflow:Can save best model only with val_acc available, skipping.\n"
     ]
    },
    {
     "name": "stdout",
     "output_type": "stream",
     "text": [
      "236/236 [==============================] - 6s 26ms/step - loss: 0.0302 - accuracy: 0.9907 - val_loss: 0.2615 - val_accuracy: 0.9051\n",
      "Epoch 20/100\n",
      "236/236 [==============================] - ETA: 0s - loss: 0.0316 - accuracy: 0.9901WARNING:tensorflow:Can save best model only with val_acc available, skipping.\n"
     ]
    },
    {
     "name": "stderr",
     "output_type": "stream",
     "text": [
      "WARNING:tensorflow:Can save best model only with val_acc available, skipping.\n"
     ]
    },
    {
     "name": "stdout",
     "output_type": "stream",
     "text": [
      "236/236 [==============================] - 6s 27ms/step - loss: 0.0316 - accuracy: 0.9901 - val_loss: 1.0473 - val_accuracy: 0.7241\n",
      "Epoch 21/100\n",
      "236/236 [==============================] - ETA: 0s - loss: 0.0336 - accuracy: 0.9892WARNING:tensorflow:Can save best model only with val_acc available, skipping.\n"
     ]
    },
    {
     "name": "stderr",
     "output_type": "stream",
     "text": [
      "WARNING:tensorflow:Can save best model only with val_acc available, skipping.\n"
     ]
    },
    {
     "name": "stdout",
     "output_type": "stream",
     "text": [
      "236/236 [==============================] - 7s 29ms/step - loss: 0.0336 - accuracy: 0.9892 - val_loss: 1.5966 - val_accuracy: 0.5358\n",
      "Epoch 22/100\n",
      "236/236 [==============================] - ETA: 0s - loss: 0.0421 - accuracy: 0.9865WARNING:tensorflow:Can save best model only with val_acc available, skipping.\n"
     ]
    },
    {
     "name": "stderr",
     "output_type": "stream",
     "text": [
      "WARNING:tensorflow:Can save best model only with val_acc available, skipping.\n"
     ]
    },
    {
     "name": "stdout",
     "output_type": "stream",
     "text": [
      "236/236 [==============================] - 7s 29ms/step - loss: 0.0421 - accuracy: 0.9865 - val_loss: 0.5375 - val_accuracy: 0.8457\n",
      "Epoch 23/100\n",
      "236/236 [==============================] - ETA: 0s - loss: 0.0264 - accuracy: 0.9923WARNING:tensorflow:Can save best model only with val_acc available, skipping.\n"
     ]
    },
    {
     "name": "stderr",
     "output_type": "stream",
     "text": [
      "WARNING:tensorflow:Can save best model only with val_acc available, skipping.\n"
     ]
    },
    {
     "name": "stdout",
     "output_type": "stream",
     "text": [
      "236/236 [==============================] - 7s 29ms/step - loss: 0.0264 - accuracy: 0.9923 - val_loss: 0.1757 - val_accuracy: 0.9531\n",
      "Epoch 24/100\n",
      "235/236 [============================>.] - ETA: 0s - loss: 0.0162 - accuracy: 0.9956WARNING:tensorflow:Can save best model only with val_acc available, skipping.\n"
     ]
    },
    {
     "name": "stderr",
     "output_type": "stream",
     "text": [
      "WARNING:tensorflow:Can save best model only with val_acc available, skipping.\n"
     ]
    },
    {
     "name": "stdout",
     "output_type": "stream",
     "text": [
      "236/236 [==============================] - 7s 29ms/step - loss: 0.0161 - accuracy: 0.9956 - val_loss: 0.4953 - val_accuracy: 0.8315\n",
      "Epoch 25/100\n",
      "235/236 [============================>.] - ETA: 0s - loss: 0.0161 - accuracy: 0.9955WARNING:tensorflow:Can save best model only with val_acc available, skipping.\n"
     ]
    },
    {
     "name": "stderr",
     "output_type": "stream",
     "text": [
      "WARNING:tensorflow:Can save best model only with val_acc available, skipping.\n"
     ]
    },
    {
     "name": "stdout",
     "output_type": "stream",
     "text": [
      "236/236 [==============================] - 7s 29ms/step - loss: 0.0161 - accuracy: 0.9955 - val_loss: 1.0449 - val_accuracy: 0.7049\n",
      "Epoch 26/100\n",
      "236/236 [==============================] - ETA: 0s - loss: 0.0274 - accuracy: 0.9917WARNING:tensorflow:Can save best model only with val_acc available, skipping.\n"
     ]
    },
    {
     "name": "stderr",
     "output_type": "stream",
     "text": [
      "WARNING:tensorflow:Can save best model only with val_acc available, skipping.\n"
     ]
    },
    {
     "name": "stdout",
     "output_type": "stream",
     "text": [
      "236/236 [==============================] - 7s 29ms/step - loss: 0.0274 - accuracy: 0.9917 - val_loss: 0.7924 - val_accuracy: 0.8235\n",
      "Epoch 27/100\n",
      "236/236 [==============================] - ETA: 0s - loss: 0.0386 - accuracy: 0.9879WARNING:tensorflow:Can save best model only with val_acc available, skipping.\n"
     ]
    },
    {
     "name": "stderr",
     "output_type": "stream",
     "text": [
      "WARNING:tensorflow:Can save best model only with val_acc available, skipping.\n"
     ]
    },
    {
     "name": "stdout",
     "output_type": "stream",
     "text": [
      "236/236 [==============================] - 6s 27ms/step - loss: 0.0386 - accuracy: 0.9879 - val_loss: 1.0849 - val_accuracy: 0.7015\n",
      "Epoch 28/100\n",
      "234/236 [============================>.] - ETA: 0s - loss: 0.0248 - accuracy: 0.9930WARNING:tensorflow:Can save best model only with val_acc available, skipping.\n"
     ]
    },
    {
     "name": "stderr",
     "output_type": "stream",
     "text": [
      "WARNING:tensorflow:Can save best model only with val_acc available, skipping.\n"
     ]
    },
    {
     "name": "stdout",
     "output_type": "stream",
     "text": [
      "236/236 [==============================] - 7s 28ms/step - loss: 0.0249 - accuracy: 0.9929 - val_loss: 0.3138 - val_accuracy: 0.8983\n",
      "Epoch 29/100\n",
      "236/236 [==============================] - ETA: 0s - loss: 0.0191 - accuracy: 0.9941WARNING:tensorflow:Can save best model only with val_acc available, skipping.\n"
     ]
    },
    {
     "name": "stderr",
     "output_type": "stream",
     "text": [
      "WARNING:tensorflow:Can save best model only with val_acc available, skipping.\n"
     ]
    },
    {
     "name": "stdout",
     "output_type": "stream",
     "text": [
      "236/236 [==============================] - 6s 27ms/step - loss: 0.0191 - accuracy: 0.9941 - val_loss: 0.1335 - val_accuracy: 0.9592\n",
      "Epoch 30/100\n",
      "235/236 [============================>.] - ETA: 0s - loss: 0.0189 - accuracy: 0.9945WARNING:tensorflow:Can save best model only with val_acc available, skipping.\n"
     ]
    },
    {
     "name": "stderr",
     "output_type": "stream",
     "text": [
      "WARNING:tensorflow:Can save best model only with val_acc available, skipping.\n"
     ]
    },
    {
     "name": "stdout",
     "output_type": "stream",
     "text": [
      "236/236 [==============================] - 6s 27ms/step - loss: 0.0192 - accuracy: 0.9945 - val_loss: 0.3041 - val_accuracy: 0.8930\n",
      "Epoch 31/100\n",
      "236/236 [==============================] - ETA: 0s - loss: 0.0352 - accuracy: 0.9887WARNING:tensorflow:Can save best model only with val_acc available, skipping.\n"
     ]
    },
    {
     "name": "stderr",
     "output_type": "stream",
     "text": [
      "WARNING:tensorflow:Can save best model only with val_acc available, skipping.\n"
     ]
    },
    {
     "name": "stdout",
     "output_type": "stream",
     "text": [
      "236/236 [==============================] - 7s 28ms/step - loss: 0.0352 - accuracy: 0.9887 - val_loss: 0.1184 - val_accuracy: 0.9662\n",
      "Epoch 32/100\n",
      "234/236 [============================>.] - ETA: 0s - loss: 0.0169 - accuracy: 0.9951WARNING:tensorflow:Can save best model only with val_acc available, skipping.\n"
     ]
    },
    {
     "name": "stderr",
     "output_type": "stream",
     "text": [
      "WARNING:tensorflow:Can save best model only with val_acc available, skipping.\n"
     ]
    },
    {
     "name": "stdout",
     "output_type": "stream",
     "text": [
      "236/236 [==============================] - 6s 27ms/step - loss: 0.0169 - accuracy: 0.9950 - val_loss: 0.1606 - val_accuracy: 0.9528\n",
      "Epoch 33/100\n",
      "235/236 [============================>.] - ETA: 0s - loss: 0.0115 - accuracy: 0.9972WARNING:tensorflow:Can save best model only with val_acc available, skipping.\n"
     ]
    },
    {
     "name": "stderr",
     "output_type": "stream",
     "text": [
      "WARNING:tensorflow:Can save best model only with val_acc available, skipping.\n"
     ]
    },
    {
     "name": "stdout",
     "output_type": "stream",
     "text": [
      "236/236 [==============================] - 6s 27ms/step - loss: 0.0115 - accuracy: 0.9972 - val_loss: 0.3565 - val_accuracy: 0.8905\n",
      "Epoch 34/100\n",
      "236/236 [==============================] - ETA: 0s - loss: 0.0155 - accuracy: 0.9960WARNING:tensorflow:Can save best model only with val_acc available, skipping.\n"
     ]
    },
    {
     "name": "stderr",
     "output_type": "stream",
     "text": [
      "WARNING:tensorflow:Can save best model only with val_acc available, skipping.\n"
     ]
    },
    {
     "name": "stdout",
     "output_type": "stream",
     "text": [
      "236/236 [==============================] - 6s 27ms/step - loss: 0.0155 - accuracy: 0.9960 - val_loss: 0.0678 - val_accuracy: 0.9825\n",
      "Epoch 35/100\n",
      "235/236 [============================>.] - ETA: 0s - loss: 0.0184 - accuracy: 0.9951WARNING:tensorflow:Can save best model only with val_acc available, skipping.\n"
     ]
    },
    {
     "name": "stderr",
     "output_type": "stream",
     "text": [
      "WARNING:tensorflow:Can save best model only with val_acc available, skipping.\n"
     ]
    },
    {
     "name": "stdout",
     "output_type": "stream",
     "text": [
      "236/236 [==============================] - 6s 27ms/step - loss: 0.0184 - accuracy: 0.9951 - val_loss: 0.1694 - val_accuracy: 0.9559\n",
      "Epoch 36/100\n",
      "235/236 [============================>.] - ETA: 0s - loss: 0.0108 - accuracy: 0.9972WARNING:tensorflow:Can save best model only with val_acc available, skipping.\n"
     ]
    },
    {
     "name": "stderr",
     "output_type": "stream",
     "text": [
      "WARNING:tensorflow:Can save best model only with val_acc available, skipping.\n"
     ]
    },
    {
     "name": "stdout",
     "output_type": "stream",
     "text": [
      "236/236 [==============================] - 7s 28ms/step - loss: 0.0108 - accuracy: 0.9972 - val_loss: 0.0500 - val_accuracy: 0.9875\n",
      "Epoch 37/100\n",
      "236/236 [==============================] - ETA: 0s - loss: 0.0203 - accuracy: 0.9941WARNING:tensorflow:Can save best model only with val_acc available, skipping.\n"
     ]
    },
    {
     "name": "stderr",
     "output_type": "stream",
     "text": [
      "WARNING:tensorflow:Can save best model only with val_acc available, skipping.\n"
     ]
    },
    {
     "name": "stdout",
     "output_type": "stream",
     "text": [
      "236/236 [==============================] - 6s 26ms/step - loss: 0.0203 - accuracy: 0.9941 - val_loss: 0.1901 - val_accuracy: 0.9310\n",
      "Epoch 38/100\n",
      "235/236 [============================>.] - ETA: 0s - loss: 0.0273 - accuracy: 0.9917WARNING:tensorflow:Can save best model only with val_acc available, skipping.\n"
     ]
    },
    {
     "name": "stderr",
     "output_type": "stream",
     "text": [
      "WARNING:tensorflow:Can save best model only with val_acc available, skipping.\n"
     ]
    },
    {
     "name": "stdout",
     "output_type": "stream",
     "text": [
      "236/236 [==============================] - 6s 26ms/step - loss: 0.0273 - accuracy: 0.9917 - val_loss: 0.0911 - val_accuracy: 0.9757\n",
      "Epoch 39/100\n",
      "234/236 [============================>.] - ETA: 0s - loss: 0.0198 - accuracy: 0.9941WARNING:tensorflow:Can save best model only with val_acc available, skipping.\n"
     ]
    },
    {
     "name": "stderr",
     "output_type": "stream",
     "text": [
      "WARNING:tensorflow:Can save best model only with val_acc available, skipping.\n"
     ]
    },
    {
     "name": "stdout",
     "output_type": "stream",
     "text": [
      "236/236 [==============================] - 7s 28ms/step - loss: 0.0198 - accuracy: 0.9941 - val_loss: 1.0375 - val_accuracy: 0.7329\n",
      "Epoch 40/100\n",
      "234/236 [============================>.] - ETA: 0s - loss: 0.0178 - accuracy: 0.9944WARNING:tensorflow:Can save best model only with val_acc available, skipping.\n"
     ]
    },
    {
     "name": "stderr",
     "output_type": "stream",
     "text": [
      "WARNING:tensorflow:Can save best model only with val_acc available, skipping.\n"
     ]
    },
    {
     "name": "stdout",
     "output_type": "stream",
     "text": [
      "236/236 [==============================] - 6s 26ms/step - loss: 0.0179 - accuracy: 0.9943 - val_loss: 0.0886 - val_accuracy: 0.9729\n",
      "Epoch 41/100\n",
      "234/236 [============================>.] - ETA: 0s - loss: 0.0207 - accuracy: 0.9937WARNING:tensorflow:Can save best model only with val_acc available, skipping.\n"
     ]
    },
    {
     "name": "stderr",
     "output_type": "stream",
     "text": [
      "WARNING:tensorflow:Can save best model only with val_acc available, skipping.\n"
     ]
    },
    {
     "name": "stdout",
     "output_type": "stream",
     "text": [
      "236/236 [==============================] - 6s 26ms/step - loss: 0.0208 - accuracy: 0.9937 - val_loss: 0.0525 - val_accuracy: 0.9860\n",
      "Epoch 42/100\n",
      "234/236 [============================>.] - ETA: 0s - loss: 0.0121 - accuracy: 0.9965WARNING:tensorflow:Can save best model only with val_acc available, skipping.\n"
     ]
    },
    {
     "name": "stderr",
     "output_type": "stream",
     "text": [
      "WARNING:tensorflow:Can save best model only with val_acc available, skipping.\n"
     ]
    },
    {
     "name": "stdout",
     "output_type": "stream",
     "text": [
      "236/236 [==============================] - 6s 26ms/step - loss: 0.0121 - accuracy: 0.9965 - val_loss: 0.0972 - val_accuracy: 0.9676\n",
      "Epoch 43/100\n",
      "235/236 [============================>.] - ETA: 0s - loss: 0.0135 - accuracy: 0.9960WARNING:tensorflow:Can save best model only with val_acc available, skipping.\n"
     ]
    },
    {
     "name": "stderr",
     "output_type": "stream",
     "text": [
      "WARNING:tensorflow:Can save best model only with val_acc available, skipping.\n"
     ]
    },
    {
     "name": "stdout",
     "output_type": "stream",
     "text": [
      "236/236 [==============================] - 6s 26ms/step - loss: 0.0135 - accuracy: 0.9960 - val_loss: 0.0634 - val_accuracy: 0.9854\n",
      "Epoch 44/100\n",
      "234/236 [============================>.] - ETA: 0s - loss: 0.0075 - accuracy: 0.9982WARNING:tensorflow:Can save best model only with val_acc available, skipping.\n"
     ]
    },
    {
     "name": "stderr",
     "output_type": "stream",
     "text": [
      "WARNING:tensorflow:Can save best model only with val_acc available, skipping.\n"
     ]
    },
    {
     "name": "stdout",
     "output_type": "stream",
     "text": [
      "236/236 [==============================] - 6s 26ms/step - loss: 0.0075 - accuracy: 0.9982 - val_loss: 0.0668 - val_accuracy: 0.9817\n",
      "Epoch 45/100\n",
      "235/236 [============================>.] - ETA: 0s - loss: 0.0181 - accuracy: 0.9942WARNING:tensorflow:Can save best model only with val_acc available, skipping.\n"
     ]
    },
    {
     "name": "stderr",
     "output_type": "stream",
     "text": [
      "WARNING:tensorflow:Can save best model only with val_acc available, skipping.\n"
     ]
    },
    {
     "name": "stdout",
     "output_type": "stream",
     "text": [
      "236/236 [==============================] - 6s 26ms/step - loss: 0.0183 - accuracy: 0.9942 - val_loss: 0.6450 - val_accuracy: 0.7732\n",
      "Epoch 46/100\n",
      "236/236 [==============================] - ETA: 0s - loss: 0.0338 - accuracy: 0.9900WARNING:tensorflow:Can save best model only with val_acc available, skipping.\n"
     ]
    },
    {
     "name": "stderr",
     "output_type": "stream",
     "text": [
      "WARNING:tensorflow:Can save best model only with val_acc available, skipping.\n"
     ]
    },
    {
     "name": "stdout",
     "output_type": "stream",
     "text": [
      "236/236 [==============================] - 6s 26ms/step - loss: 0.0338 - accuracy: 0.9900 - val_loss: 0.1649 - val_accuracy: 0.9518\n",
      "Epoch 47/100\n",
      "234/236 [============================>.] - ETA: 0s - loss: 0.0074 - accuracy: 0.9984WARNING:tensorflow:Can save best model only with val_acc available, skipping.\n"
     ]
    },
    {
     "name": "stderr",
     "output_type": "stream",
     "text": [
      "WARNING:tensorflow:Can save best model only with val_acc available, skipping.\n"
     ]
    },
    {
     "name": "stdout",
     "output_type": "stream",
     "text": [
      "236/236 [==============================] - 6s 26ms/step - loss: 0.0074 - accuracy: 0.9984 - val_loss: 0.0482 - val_accuracy: 0.9930\n",
      "Epoch 48/100\n",
      "234/236 [============================>.] - ETA: 0s - loss: 0.0048 - accuracy: 0.9991WARNING:tensorflow:Can save best model only with val_acc available, skipping.\n"
     ]
    },
    {
     "name": "stderr",
     "output_type": "stream",
     "text": [
      "WARNING:tensorflow:Can save best model only with val_acc available, skipping.\n"
     ]
    },
    {
     "name": "stdout",
     "output_type": "stream",
     "text": [
      "236/236 [==============================] - 6s 26ms/step - loss: 0.0047 - accuracy: 0.9991 - val_loss: 0.0952 - val_accuracy: 0.9740\n",
      "Epoch 49/100\n",
      "235/236 [============================>.] - ETA: 0s - loss: 0.0045 - accuracy: 0.9992WARNING:tensorflow:Can save best model only with val_acc available, skipping.\n"
     ]
    },
    {
     "name": "stderr",
     "output_type": "stream",
     "text": [
      "WARNING:tensorflow:Can save best model only with val_acc available, skipping.\n"
     ]
    },
    {
     "name": "stdout",
     "output_type": "stream",
     "text": [
      "236/236 [==============================] - 6s 26ms/step - loss: 0.0046 - accuracy: 0.9992 - val_loss: 0.5805 - val_accuracy: 0.8316\n",
      "Epoch 50/100\n",
      "234/236 [============================>.] - ETA: 0s - loss: 0.0260 - accuracy: 0.9921WARNING:tensorflow:Can save best model only with val_acc available, skipping.\n"
     ]
    },
    {
     "name": "stderr",
     "output_type": "stream",
     "text": [
      "WARNING:tensorflow:Can save best model only with val_acc available, skipping.\n"
     ]
    },
    {
     "name": "stdout",
     "output_type": "stream",
     "text": [
      "236/236 [==============================] - 6s 26ms/step - loss: 0.0259 - accuracy: 0.9921 - val_loss: 0.9351 - val_accuracy: 0.7487\n",
      "Epoch 51/100\n",
      "234/236 [============================>.] - ETA: 0s - loss: 0.0123 - accuracy: 0.9974WARNING:tensorflow:Can save best model only with val_acc available, skipping.\n"
     ]
    },
    {
     "name": "stderr",
     "output_type": "stream",
     "text": [
      "WARNING:tensorflow:Can save best model only with val_acc available, skipping.\n"
     ]
    },
    {
     "name": "stdout",
     "output_type": "stream",
     "text": [
      "236/236 [==============================] - 6s 26ms/step - loss: 0.0123 - accuracy: 0.9974 - val_loss: 0.4966 - val_accuracy: 0.8433\n",
      "Epoch 52/100\n",
      "235/236 [============================>.] - ETA: 0s - loss: 0.0230 - accuracy: 0.9929WARNING:tensorflow:Can save best model only with val_acc available, skipping.\n"
     ]
    },
    {
     "name": "stderr",
     "output_type": "stream",
     "text": [
      "WARNING:tensorflow:Can save best model only with val_acc available, skipping.\n"
     ]
    },
    {
     "name": "stdout",
     "output_type": "stream",
     "text": [
      "236/236 [==============================] - 6s 26ms/step - loss: 0.0231 - accuracy: 0.9929 - val_loss: 0.6260 - val_accuracy: 0.8078\n",
      "Epoch 53/100\n",
      "235/236 [============================>.] - ETA: 0s - loss: 0.0239 - accuracy: 0.9937WARNING:tensorflow:Can save best model only with val_acc available, skipping.\n"
     ]
    },
    {
     "name": "stderr",
     "output_type": "stream",
     "text": [
      "WARNING:tensorflow:Can save best model only with val_acc available, skipping.\n"
     ]
    },
    {
     "name": "stdout",
     "output_type": "stream",
     "text": [
      "236/236 [==============================] - 6s 26ms/step - loss: 0.0239 - accuracy: 0.9937 - val_loss: 0.1252 - val_accuracy: 0.9650\n",
      "Epoch 54/100\n",
      "234/236 [============================>.] - ETA: 0s - loss: 0.0162 - accuracy: 0.9960WARNING:tensorflow:Can save best model only with val_acc available, skipping.\n"
     ]
    },
    {
     "name": "stderr",
     "output_type": "stream",
     "text": [
      "WARNING:tensorflow:Can save best model only with val_acc available, skipping.\n"
     ]
    },
    {
     "name": "stdout",
     "output_type": "stream",
     "text": [
      "236/236 [==============================] - 6s 26ms/step - loss: 0.0164 - accuracy: 0.9959 - val_loss: 0.6188 - val_accuracy: 0.8171\n",
      "Epoch 55/100\n",
      "234/236 [============================>.] - ETA: 0s - loss: 0.0249 - accuracy: 0.9932WARNING:tensorflow:Can save best model only with val_acc available, skipping.\n"
     ]
    },
    {
     "name": "stderr",
     "output_type": "stream",
     "text": [
      "WARNING:tensorflow:Can save best model only with val_acc available, skipping.\n"
     ]
    },
    {
     "name": "stdout",
     "output_type": "stream",
     "text": [
      "236/236 [==============================] - 6s 26ms/step - loss: 0.0248 - accuracy: 0.9932 - val_loss: 0.1083 - val_accuracy: 0.9649\n",
      "Epoch 56/100\n",
      "234/236 [============================>.] - ETA: 0s - loss: 0.0140 - accuracy: 0.9970WARNING:tensorflow:Can save best model only with val_acc available, skipping.\n"
     ]
    },
    {
     "name": "stderr",
     "output_type": "stream",
     "text": [
      "WARNING:tensorflow:Can save best model only with val_acc available, skipping.\n"
     ]
    },
    {
     "name": "stdout",
     "output_type": "stream",
     "text": [
      "236/236 [==============================] - 6s 26ms/step - loss: 0.0139 - accuracy: 0.9970 - val_loss: 0.1691 - val_accuracy: 0.9510\n",
      "Epoch 57/100\n",
      "234/236 [============================>.] - ETA: 0s - loss: 0.0151 - accuracy: 0.9965WARNING:tensorflow:Can save best model only with val_acc available, skipping.\n"
     ]
    },
    {
     "name": "stderr",
     "output_type": "stream",
     "text": [
      "WARNING:tensorflow:Can save best model only with val_acc available, skipping.\n"
     ]
    },
    {
     "name": "stdout",
     "output_type": "stream",
     "text": [
      "236/236 [==============================] - 6s 26ms/step - loss: 0.0151 - accuracy: 0.9965 - val_loss: 0.3214 - val_accuracy: 0.9030\n",
      "Epoch 58/100\n",
      "234/236 [============================>.] - ETA: 0s - loss: 0.0146 - accuracy: 0.9962WARNING:tensorflow:Can save best model only with val_acc available, skipping.\n"
     ]
    },
    {
     "name": "stderr",
     "output_type": "stream",
     "text": [
      "WARNING:tensorflow:Can save best model only with val_acc available, skipping.\n"
     ]
    },
    {
     "name": "stdout",
     "output_type": "stream",
     "text": [
      "236/236 [==============================] - 6s 26ms/step - loss: 0.0146 - accuracy: 0.9962 - val_loss: 0.0795 - val_accuracy: 0.9834\n",
      "Epoch 59/100\n",
      "236/236 [==============================] - ETA: 0s - loss: 0.0139 - accuracy: 0.9966WARNING:tensorflow:Can save best model only with val_acc available, skipping.\n"
     ]
    },
    {
     "name": "stderr",
     "output_type": "stream",
     "text": [
      "WARNING:tensorflow:Can save best model only with val_acc available, skipping.\n"
     ]
    },
    {
     "name": "stdout",
     "output_type": "stream",
     "text": [
      "236/236 [==============================] - 6s 26ms/step - loss: 0.0139 - accuracy: 0.9966 - val_loss: 0.2680 - val_accuracy: 0.9252\n",
      "Epoch 60/100\n",
      "235/236 [============================>.] - ETA: 0s - loss: 0.0218 - accuracy: 0.9947WARNING:tensorflow:Can save best model only with val_acc available, skipping.\n"
     ]
    },
    {
     "name": "stderr",
     "output_type": "stream",
     "text": [
      "WARNING:tensorflow:Can save best model only with val_acc available, skipping.\n"
     ]
    },
    {
     "name": "stdout",
     "output_type": "stream",
     "text": [
      "236/236 [==============================] - 6s 26ms/step - loss: 0.0219 - accuracy: 0.9947 - val_loss: 0.0979 - val_accuracy: 0.9758\n",
      "Epoch 61/100\n",
      "234/236 [============================>.] - ETA: 0s - loss: 0.0272 - accuracy: 0.9920WARNING:tensorflow:Can save best model only with val_acc available, skipping.\n"
     ]
    },
    {
     "name": "stderr",
     "output_type": "stream",
     "text": [
      "WARNING:tensorflow:Can save best model only with val_acc available, skipping.\n"
     ]
    },
    {
     "name": "stdout",
     "output_type": "stream",
     "text": [
      "236/236 [==============================] - 6s 26ms/step - loss: 0.0271 - accuracy: 0.9920 - val_loss: 0.3234 - val_accuracy: 0.8942\n",
      "Epoch 62/100\n",
      "236/236 [==============================] - ETA: 0s - loss: 0.0191 - accuracy: 0.9946WARNING:tensorflow:Can save best model only with val_acc available, skipping.\n"
     ]
    },
    {
     "name": "stderr",
     "output_type": "stream",
     "text": [
      "WARNING:tensorflow:Can save best model only with val_acc available, skipping.\n"
     ]
    },
    {
     "name": "stdout",
     "output_type": "stream",
     "text": [
      "236/236 [==============================] - 6s 27ms/step - loss: 0.0191 - accuracy: 0.9946 - val_loss: 0.1501 - val_accuracy: 0.9557\n",
      "Epoch 63/100\n",
      "235/236 [============================>.] - ETA: 0s - loss: 0.0144 - accuracy: 0.9964WARNING:tensorflow:Can save best model only with val_acc available, skipping.\n"
     ]
    },
    {
     "name": "stderr",
     "output_type": "stream",
     "text": [
      "WARNING:tensorflow:Can save best model only with val_acc available, skipping.\n"
     ]
    },
    {
     "name": "stdout",
     "output_type": "stream",
     "text": [
      "236/236 [==============================] - 6s 27ms/step - loss: 0.0144 - accuracy: 0.9963 - val_loss: 0.1455 - val_accuracy: 0.9407\n",
      "Epoch 64/100\n",
      "236/236 [==============================] - ETA: 0s - loss: 0.0152 - accuracy: 0.9957WARNING:tensorflow:Can save best model only with val_acc available, skipping.\n"
     ]
    },
    {
     "name": "stderr",
     "output_type": "stream",
     "text": [
      "WARNING:tensorflow:Can save best model only with val_acc available, skipping.\n"
     ]
    },
    {
     "name": "stdout",
     "output_type": "stream",
     "text": [
      "236/236 [==============================] - 6s 27ms/step - loss: 0.0152 - accuracy: 0.9957 - val_loss: 0.1536 - val_accuracy: 0.9527\n",
      "Epoch 65/100\n",
      "235/236 [============================>.] - ETA: 0s - loss: 0.0105 - accuracy: 0.9972WARNING:tensorflow:Can save best model only with val_acc available, skipping.\n"
     ]
    },
    {
     "name": "stderr",
     "output_type": "stream",
     "text": [
      "WARNING:tensorflow:Can save best model only with val_acc available, skipping.\n"
     ]
    },
    {
     "name": "stdout",
     "output_type": "stream",
     "text": [
      "236/236 [==============================] - 6s 26ms/step - loss: 0.0105 - accuracy: 0.9972 - val_loss: 0.0363 - val_accuracy: 0.9900\n",
      "Epoch 66/100\n",
      "234/236 [============================>.] - ETA: 0s - loss: 0.0109 - accuracy: 0.9970WARNING:tensorflow:Can save best model only with val_acc available, skipping.\n"
     ]
    },
    {
     "name": "stderr",
     "output_type": "stream",
     "text": [
      "WARNING:tensorflow:Can save best model only with val_acc available, skipping.\n"
     ]
    },
    {
     "name": "stdout",
     "output_type": "stream",
     "text": [
      "236/236 [==============================] - 6s 26ms/step - loss: 0.0109 - accuracy: 0.9970 - val_loss: 0.3816 - val_accuracy: 0.8849\n",
      "Epoch 67/100\n",
      "235/236 [============================>.] - ETA: 0s - loss: 0.0227 - accuracy: 0.9931WARNING:tensorflow:Can save best model only with val_acc available, skipping.\n"
     ]
    },
    {
     "name": "stderr",
     "output_type": "stream",
     "text": [
      "WARNING:tensorflow:Can save best model only with val_acc available, skipping.\n"
     ]
    },
    {
     "name": "stdout",
     "output_type": "stream",
     "text": [
      "236/236 [==============================] - 6s 27ms/step - loss: 0.0227 - accuracy: 0.9931 - val_loss: 0.2862 - val_accuracy: 0.9002\n",
      "Epoch 68/100\n",
      "234/236 [============================>.] - ETA: 0s - loss: 0.0126 - accuracy: 0.9964WARNING:tensorflow:Can save best model only with val_acc available, skipping.\n"
     ]
    },
    {
     "name": "stderr",
     "output_type": "stream",
     "text": [
      "WARNING:tensorflow:Can save best model only with val_acc available, skipping.\n"
     ]
    },
    {
     "name": "stdout",
     "output_type": "stream",
     "text": [
      "236/236 [==============================] - 6s 27ms/step - loss: 0.0128 - accuracy: 0.9964 - val_loss: 0.2926 - val_accuracy: 0.9056\n",
      "Epoch 69/100\n",
      "236/236 [==============================] - ETA: 0s - loss: 0.0134 - accuracy: 0.9967WARNING:tensorflow:Can save best model only with val_acc available, skipping.\n"
     ]
    },
    {
     "name": "stderr",
     "output_type": "stream",
     "text": [
      "WARNING:tensorflow:Can save best model only with val_acc available, skipping.\n"
     ]
    },
    {
     "name": "stdout",
     "output_type": "stream",
     "text": [
      "236/236 [==============================] - 6s 27ms/step - loss: 0.0134 - accuracy: 0.9967 - val_loss: 0.3046 - val_accuracy: 0.9005\n",
      "Epoch 70/100\n",
      "235/236 [============================>.] - ETA: 0s - loss: 0.0199 - accuracy: 0.9941WARNING:tensorflow:Can save best model only with val_acc available, skipping.\n"
     ]
    },
    {
     "name": "stderr",
     "output_type": "stream",
     "text": [
      "WARNING:tensorflow:Can save best model only with val_acc available, skipping.\n"
     ]
    },
    {
     "name": "stdout",
     "output_type": "stream",
     "text": [
      "236/236 [==============================] - 6s 27ms/step - loss: 0.0200 - accuracy: 0.9941 - val_loss: 2.2058 - val_accuracy: 0.5838\n",
      "Epoch 71/100\n",
      "234/236 [============================>.] - ETA: 0s - loss: 0.0191 - accuracy: 0.9947WARNING:tensorflow:Can save best model only with val_acc available, skipping.\n"
     ]
    },
    {
     "name": "stderr",
     "output_type": "stream",
     "text": [
      "WARNING:tensorflow:Can save best model only with val_acc available, skipping.\n"
     ]
    },
    {
     "name": "stdout",
     "output_type": "stream",
     "text": [
      "236/236 [==============================] - 6s 27ms/step - loss: 0.0191 - accuracy: 0.9947 - val_loss: 0.3304 - val_accuracy: 0.8835\n",
      "Epoch 72/100\n",
      "235/236 [============================>.] - ETA: 0s - loss: 0.0124 - accuracy: 0.9969WARNING:tensorflow:Can save best model only with val_acc available, skipping.\n"
     ]
    },
    {
     "name": "stderr",
     "output_type": "stream",
     "text": [
      "WARNING:tensorflow:Can save best model only with val_acc available, skipping.\n"
     ]
    },
    {
     "name": "stdout",
     "output_type": "stream",
     "text": [
      "236/236 [==============================] - 7s 28ms/step - loss: 0.0124 - accuracy: 0.9969 - val_loss: 0.1945 - val_accuracy: 0.9269\n",
      "Epoch 73/100\n",
      "236/236 [==============================] - ETA: 0s - loss: 0.0119 - accuracy: 0.9970WARNING:tensorflow:Can save best model only with val_acc available, skipping.\n"
     ]
    },
    {
     "name": "stderr",
     "output_type": "stream",
     "text": [
      "WARNING:tensorflow:Can save best model only with val_acc available, skipping.\n"
     ]
    },
    {
     "name": "stdout",
     "output_type": "stream",
     "text": [
      "236/236 [==============================] - 6s 27ms/step - loss: 0.0119 - accuracy: 0.9970 - val_loss: 0.0376 - val_accuracy: 0.9867\n",
      "Epoch 74/100\n",
      "235/236 [============================>.] - ETA: 0s - loss: 0.0261 - accuracy: 0.9919WARNING:tensorflow:Can save best model only with val_acc available, skipping.\n"
     ]
    },
    {
     "name": "stderr",
     "output_type": "stream",
     "text": [
      "WARNING:tensorflow:Can save best model only with val_acc available, skipping.\n"
     ]
    },
    {
     "name": "stdout",
     "output_type": "stream",
     "text": [
      "236/236 [==============================] - 6s 27ms/step - loss: 0.0261 - accuracy: 0.9919 - val_loss: 0.1059 - val_accuracy: 0.9698\n",
      "Epoch 75/100\n",
      "236/236 [==============================] - ETA: 0s - loss: 0.0106 - accuracy: 0.9972WARNING:tensorflow:Can save best model only with val_acc available, skipping.\n"
     ]
    },
    {
     "name": "stderr",
     "output_type": "stream",
     "text": [
      "WARNING:tensorflow:Can save best model only with val_acc available, skipping.\n"
     ]
    },
    {
     "name": "stdout",
     "output_type": "stream",
     "text": [
      "236/236 [==============================] - 6s 27ms/step - loss: 0.0106 - accuracy: 0.9972 - val_loss: 0.0214 - val_accuracy: 0.9935\n",
      "Epoch 76/100\n",
      "234/236 [============================>.] - ETA: 0s - loss: 0.0087 - accuracy: 0.9979WARNING:tensorflow:Can save best model only with val_acc available, skipping.\n"
     ]
    },
    {
     "name": "stderr",
     "output_type": "stream",
     "text": [
      "WARNING:tensorflow:Can save best model only with val_acc available, skipping.\n"
     ]
    },
    {
     "name": "stdout",
     "output_type": "stream",
     "text": [
      "236/236 [==============================] - 6s 26ms/step - loss: 0.0089 - accuracy: 0.9978 - val_loss: 0.0285 - val_accuracy: 0.9916\n",
      "Epoch 77/100\n",
      "234/236 [============================>.] - ETA: 0s - loss: 0.0070 - accuracy: 0.9982WARNING:tensorflow:Can save best model only with val_acc available, skipping.\n"
     ]
    },
    {
     "name": "stderr",
     "output_type": "stream",
     "text": [
      "WARNING:tensorflow:Can save best model only with val_acc available, skipping.\n"
     ]
    },
    {
     "name": "stdout",
     "output_type": "stream",
     "text": [
      "236/236 [==============================] - 6s 26ms/step - loss: 0.0070 - accuracy: 0.9982 - val_loss: 0.0599 - val_accuracy: 0.9872\n",
      "Epoch 78/100\n",
      "236/236 [==============================] - ETA: 0s - loss: 0.0092 - accuracy: 0.9977WARNING:tensorflow:Can save best model only with val_acc available, skipping.\n"
     ]
    },
    {
     "name": "stderr",
     "output_type": "stream",
     "text": [
      "WARNING:tensorflow:Can save best model only with val_acc available, skipping.\n"
     ]
    },
    {
     "name": "stdout",
     "output_type": "stream",
     "text": [
      "236/236 [==============================] - 6s 26ms/step - loss: 0.0092 - accuracy: 0.9977 - val_loss: 0.1457 - val_accuracy: 0.9479\n",
      "Epoch 79/100\n",
      "236/236 [==============================] - ETA: 0s - loss: 0.0068 - accuracy: 0.9984WARNING:tensorflow:Can save best model only with val_acc available, skipping.\n"
     ]
    },
    {
     "name": "stderr",
     "output_type": "stream",
     "text": [
      "WARNING:tensorflow:Can save best model only with val_acc available, skipping.\n"
     ]
    },
    {
     "name": "stdout",
     "output_type": "stream",
     "text": [
      "236/236 [==============================] - 6s 26ms/step - loss: 0.0068 - accuracy: 0.9984 - val_loss: 0.2078 - val_accuracy: 0.9188\n",
      "Epoch 80/100\n",
      "235/236 [============================>.] - ETA: 0s - loss: 0.0138 - accuracy: 0.9966WARNING:tensorflow:Can save best model only with val_acc available, skipping.\n"
     ]
    },
    {
     "name": "stderr",
     "output_type": "stream",
     "text": [
      "WARNING:tensorflow:Can save best model only with val_acc available, skipping.\n"
     ]
    },
    {
     "name": "stdout",
     "output_type": "stream",
     "text": [
      "236/236 [==============================] - 6s 26ms/step - loss: 0.0138 - accuracy: 0.9966 - val_loss: 0.2074 - val_accuracy: 0.9281\n",
      "Epoch 81/100\n",
      "236/236 [==============================] - ETA: 0s - loss: 0.0122 - accuracy: 0.9966WARNING:tensorflow:Can save best model only with val_acc available, skipping.\n"
     ]
    },
    {
     "name": "stderr",
     "output_type": "stream",
     "text": [
      "WARNING:tensorflow:Can save best model only with val_acc available, skipping.\n"
     ]
    },
    {
     "name": "stdout",
     "output_type": "stream",
     "text": [
      "236/236 [==============================] - 6s 26ms/step - loss: 0.0122 - accuracy: 0.9966 - val_loss: 0.2181 - val_accuracy: 0.9124\n",
      "Epoch 82/100\n",
      "236/236 [==============================] - ETA: 0s - loss: 0.0072 - accuracy: 0.9982WARNING:tensorflow:Can save best model only with val_acc available, skipping.\n"
     ]
    },
    {
     "name": "stderr",
     "output_type": "stream",
     "text": [
      "WARNING:tensorflow:Can save best model only with val_acc available, skipping.\n"
     ]
    },
    {
     "name": "stdout",
     "output_type": "stream",
     "text": [
      "236/236 [==============================] - 6s 26ms/step - loss: 0.0072 - accuracy: 0.9982 - val_loss: 0.0203 - val_accuracy: 0.9918\n",
      "Epoch 83/100\n",
      "235/236 [============================>.] - ETA: 0s - loss: 0.0107 - accuracy: 0.9970WARNING:tensorflow:Can save best model only with val_acc available, skipping.\n"
     ]
    },
    {
     "name": "stderr",
     "output_type": "stream",
     "text": [
      "WARNING:tensorflow:Can save best model only with val_acc available, skipping.\n"
     ]
    },
    {
     "name": "stdout",
     "output_type": "stream",
     "text": [
      "236/236 [==============================] - 6s 26ms/step - loss: 0.0107 - accuracy: 0.9970 - val_loss: 0.2074 - val_accuracy: 0.9164\n",
      "Epoch 84/100\n",
      "235/236 [============================>.] - ETA: 0s - loss: 0.0143 - accuracy: 0.9959WARNING:tensorflow:Can save best model only with val_acc available, skipping.\n"
     ]
    },
    {
     "name": "stderr",
     "output_type": "stream",
     "text": [
      "WARNING:tensorflow:Can save best model only with val_acc available, skipping.\n"
     ]
    },
    {
     "name": "stdout",
     "output_type": "stream",
     "text": [
      "236/236 [==============================] - 6s 26ms/step - loss: 0.0144 - accuracy: 0.9959 - val_loss: 0.9036 - val_accuracy: 0.7619\n",
      "Epoch 85/100\n",
      "234/236 [============================>.] - ETA: 0s - loss: 0.0086 - accuracy: 0.9976WARNING:tensorflow:Can save best model only with val_acc available, skipping.\n"
     ]
    },
    {
     "name": "stderr",
     "output_type": "stream",
     "text": [
      "WARNING:tensorflow:Can save best model only with val_acc available, skipping.\n"
     ]
    },
    {
     "name": "stdout",
     "output_type": "stream",
     "text": [
      "236/236 [==============================] - 6s 26ms/step - loss: 0.0085 - accuracy: 0.9976 - val_loss: 0.0112 - val_accuracy: 0.9981\n",
      "Epoch 86/100\n",
      "236/236 [==============================] - ETA: 0s - loss: 0.0051 - accuracy: 0.9990WARNING:tensorflow:Can save best model only with val_acc available, skipping.\n"
     ]
    },
    {
     "name": "stderr",
     "output_type": "stream",
     "text": [
      "WARNING:tensorflow:Can save best model only with val_acc available, skipping.\n"
     ]
    },
    {
     "name": "stdout",
     "output_type": "stream",
     "text": [
      "236/236 [==============================] - 6s 26ms/step - loss: 0.0051 - accuracy: 0.9990 - val_loss: 0.0441 - val_accuracy: 0.9879\n",
      "Epoch 87/100\n",
      "235/236 [============================>.] - ETA: 0s - loss: 0.0074 - accuracy: 0.9981WARNING:tensorflow:Can save best model only with val_acc available, skipping.\n"
     ]
    },
    {
     "name": "stderr",
     "output_type": "stream",
     "text": [
      "WARNING:tensorflow:Can save best model only with val_acc available, skipping.\n"
     ]
    },
    {
     "name": "stdout",
     "output_type": "stream",
     "text": [
      "236/236 [==============================] - 6s 26ms/step - loss: 0.0074 - accuracy: 0.9981 - val_loss: 0.3268 - val_accuracy: 0.8783\n",
      "Epoch 88/100\n",
      "235/236 [============================>.] - ETA: 0s - loss: 0.0144 - accuracy: 0.9958WARNING:tensorflow:Can save best model only with val_acc available, skipping.\n"
     ]
    },
    {
     "name": "stderr",
     "output_type": "stream",
     "text": [
      "WARNING:tensorflow:Can save best model only with val_acc available, skipping.\n"
     ]
    },
    {
     "name": "stdout",
     "output_type": "stream",
     "text": [
      "236/236 [==============================] - 6s 26ms/step - loss: 0.0144 - accuracy: 0.9958 - val_loss: 0.6013 - val_accuracy: 0.8215\n",
      "Epoch 89/100\n",
      "235/236 [============================>.] - ETA: 0s - loss: 0.0108 - accuracy: 0.9970WARNING:tensorflow:Can save best model only with val_acc available, skipping.\n"
     ]
    },
    {
     "name": "stderr",
     "output_type": "stream",
     "text": [
      "WARNING:tensorflow:Can save best model only with val_acc available, skipping.\n"
     ]
    },
    {
     "name": "stdout",
     "output_type": "stream",
     "text": [
      "236/236 [==============================] - 6s 26ms/step - loss: 0.0108 - accuracy: 0.9970 - val_loss: 0.1991 - val_accuracy: 0.9286\n",
      "Epoch 90/100\n",
      "234/236 [============================>.] - ETA: 0s - loss: 0.0137 - accuracy: 0.9961WARNING:tensorflow:Can save best model only with val_acc available, skipping.\n"
     ]
    },
    {
     "name": "stderr",
     "output_type": "stream",
     "text": [
      "WARNING:tensorflow:Can save best model only with val_acc available, skipping.\n"
     ]
    },
    {
     "name": "stdout",
     "output_type": "stream",
     "text": [
      "236/236 [==============================] - 6s 26ms/step - loss: 0.0138 - accuracy: 0.9961 - val_loss: 0.0321 - val_accuracy: 0.9942\n",
      "Epoch 91/100\n",
      "234/236 [============================>.] - ETA: 0s - loss: 0.0130 - accuracy: 0.9964WARNING:tensorflow:Can save best model only with val_acc available, skipping.\n"
     ]
    },
    {
     "name": "stderr",
     "output_type": "stream",
     "text": [
      "WARNING:tensorflow:Can save best model only with val_acc available, skipping.\n"
     ]
    },
    {
     "name": "stdout",
     "output_type": "stream",
     "text": [
      "236/236 [==============================] - 6s 26ms/step - loss: 0.0130 - accuracy: 0.9963 - val_loss: 0.0792 - val_accuracy: 0.9741\n",
      "Epoch 92/100\n",
      "234/236 [============================>.] - ETA: 0s - loss: 0.0050 - accuracy: 0.9992WARNING:tensorflow:Can save best model only with val_acc available, skipping.\n"
     ]
    },
    {
     "name": "stderr",
     "output_type": "stream",
     "text": [
      "WARNING:tensorflow:Can save best model only with val_acc available, skipping.\n"
     ]
    },
    {
     "name": "stdout",
     "output_type": "stream",
     "text": [
      "236/236 [==============================] - 6s 26ms/step - loss: 0.0050 - accuracy: 0.9992 - val_loss: 0.0640 - val_accuracy: 0.9805\n",
      "Epoch 93/100\n",
      "235/236 [============================>.] - ETA: 0s - loss: 0.0041 - accuracy: 0.9990WARNING:tensorflow:Can save best model only with val_acc available, skipping.\n"
     ]
    },
    {
     "name": "stderr",
     "output_type": "stream",
     "text": [
      "WARNING:tensorflow:Can save best model only with val_acc available, skipping.\n"
     ]
    },
    {
     "name": "stdout",
     "output_type": "stream",
     "text": [
      "236/236 [==============================] - 6s 26ms/step - loss: 0.0041 - accuracy: 0.9990 - val_loss: 0.1923 - val_accuracy: 0.9381\n",
      "Epoch 94/100\n",
      "235/236 [============================>.] - ETA: 0s - loss: 0.0057 - accuracy: 0.9982WARNING:tensorflow:Can save best model only with val_acc available, skipping.\n"
     ]
    },
    {
     "name": "stderr",
     "output_type": "stream",
     "text": [
      "WARNING:tensorflow:Can save best model only with val_acc available, skipping.\n"
     ]
    },
    {
     "name": "stdout",
     "output_type": "stream",
     "text": [
      "236/236 [==============================] - 6s 26ms/step - loss: 0.0057 - accuracy: 0.9982 - val_loss: 0.2034 - val_accuracy: 0.9285\n",
      "Epoch 95/100\n",
      "234/236 [============================>.] - ETA: 0s - loss: 0.0052 - accuracy: 0.9989WARNING:tensorflow:Can save best model only with val_acc available, skipping.\n"
     ]
    },
    {
     "name": "stderr",
     "output_type": "stream",
     "text": [
      "WARNING:tensorflow:Can save best model only with val_acc available, skipping.\n"
     ]
    },
    {
     "name": "stdout",
     "output_type": "stream",
     "text": [
      "236/236 [==============================] - 6s 26ms/step - loss: 0.0052 - accuracy: 0.9989 - val_loss: 0.3016 - val_accuracy: 0.9015\n",
      "Epoch 96/100\n",
      "235/236 [============================>.] - ETA: 0s - loss: 0.0096 - accuracy: 0.9974WARNING:tensorflow:Can save best model only with val_acc available, skipping.\n"
     ]
    },
    {
     "name": "stderr",
     "output_type": "stream",
     "text": [
      "WARNING:tensorflow:Can save best model only with val_acc available, skipping.\n"
     ]
    },
    {
     "name": "stdout",
     "output_type": "stream",
     "text": [
      "236/236 [==============================] - 6s 26ms/step - loss: 0.0096 - accuracy: 0.9974 - val_loss: 0.0802 - val_accuracy: 0.9742\n",
      "Epoch 97/100\n",
      "235/236 [============================>.] - ETA: 0s - loss: 0.0138 - accuracy: 0.9959WARNING:tensorflow:Can save best model only with val_acc available, skipping.\n"
     ]
    },
    {
     "name": "stderr",
     "output_type": "stream",
     "text": [
      "WARNING:tensorflow:Can save best model only with val_acc available, skipping.\n"
     ]
    },
    {
     "name": "stdout",
     "output_type": "stream",
     "text": [
      "236/236 [==============================] - 6s 26ms/step - loss: 0.0138 - accuracy: 0.9959 - val_loss: 1.7394 - val_accuracy: 0.6343\n",
      "Epoch 98/100\n",
      "235/236 [============================>.] - ETA: 0s - loss: 0.0075 - accuracy: 0.9979WARNING:tensorflow:Can save best model only with val_acc available, skipping.\n"
     ]
    },
    {
     "name": "stderr",
     "output_type": "stream",
     "text": [
      "WARNING:tensorflow:Can save best model only with val_acc available, skipping.\n"
     ]
    },
    {
     "name": "stdout",
     "output_type": "stream",
     "text": [
      "236/236 [==============================] - 6s 26ms/step - loss: 0.0075 - accuracy: 0.9979 - val_loss: 0.0162 - val_accuracy: 0.9965\n",
      "Epoch 99/100\n",
      "234/236 [============================>.] - ETA: 0s - loss: 0.0025 - accuracy: 0.9995WARNING:tensorflow:Can save best model only with val_acc available, skipping.\n"
     ]
    },
    {
     "name": "stderr",
     "output_type": "stream",
     "text": [
      "WARNING:tensorflow:Can save best model only with val_acc available, skipping.\n"
     ]
    },
    {
     "name": "stdout",
     "output_type": "stream",
     "text": [
      "236/236 [==============================] - 6s 26ms/step - loss: 0.0025 - accuracy: 0.9995 - val_loss: 0.0064 - val_accuracy: 0.9985\n",
      "Epoch 100/100\n",
      "235/236 [============================>.] - ETA: 0s - loss: 0.0034 - accuracy: 0.9992WARNING:tensorflow:Can save best model only with val_acc available, skipping.\n"
     ]
    },
    {
     "name": "stderr",
     "output_type": "stream",
     "text": [
      "WARNING:tensorflow:Can save best model only with val_acc available, skipping.\n"
     ]
    },
    {
     "name": "stdout",
     "output_type": "stream",
     "text": [
      "236/236 [==============================] - 6s 26ms/step - loss: 0.0034 - accuracy: 0.9992 - val_loss: 0.0268 - val_accuracy: 0.9939\n",
      "Duration: 0:10:47.575697\n"
     ]
    }
   ],
   "source": [
    "from datetime import datetime\n",
    "start_time = datetime.now()\n",
    "\n",
    "history = model.fit(x_train,\n",
    "                    y_train,\n",
    "                    validation_split=0.2,\n",
    "                    batch_size=128,\n",
    "                    epochs=100,\n",
    "                    shuffle=True,\n",
    "                    callbacks=[callback])\n",
    "\n",
    "end_time = datetime.now()\n",
    "print('Duration: {}'.format(end_time - start_time))"
   ]
  },
  {
   "cell_type": "code",
   "execution_count": 65,
   "id": "63661eacb0a584d5",
   "metadata": {
    "ExecuteTime": {
     "end_time": "2023-10-14T09:52:06.348225Z",
     "start_time": "2023-10-14T09:52:06.268665Z"
    },
    "collapsed": false
   },
   "outputs": [
    {
     "data": {
      "image/png": "[encoded data removed]",
      "text/plain": [
       "<Figure size 640x480 with 1 Axes>"
      ]
     },
     "metadata": {},
     "output_type": "display_data"
    }
   ],
   "source": [
    "plt.plot(history.history['accuracy'])\n",
    "plt.plot(history.history['val_accuracy'])\n",
    "plt.title('model accuracy')\n",
    "plt.ylabel('accuracy')\n",
    "plt.xlabel('epoch')\n",
    "plt.legend(['train', 'val'], loc='upper left')\n",
    "plt.show()"
   ]
  },
  {
   "cell_type": "code",
   "execution_count": 64,
   "id": "8785232b5e510360",
   "metadata": {
    "ExecuteTime": {
     "end_time": "2023-10-14T09:52:06.416156Z",
     "start_time": "2023-10-14T09:52:06.350623Z"
    },
    "collapsed": false
   },
   "outputs": [
    {
     "data": {
      "image/png": "[encoded data removed]",
      "text/plain": [
       "<Figure size 640x480 with 1 Axes>"
      ]
     },
     "metadata": {},
     "output_type": "display_data"
    }
   ],
   "source": [
    "\n",
    "plt.plot(history.history['loss'])\n",
    "plt.plot(history.history['val_loss'])\n",
    "plt.title('model loss')\n",
    "plt.ylabel('loss')\n",
    "plt.xlabel('epoch')\n",
    "plt.legend(['train', 'val'], loc='upper left')\n",
    "plt.show()"
   ]
  },
  {
   "cell_type": "code",
   "execution_count": 67,
   "id": "6d481c75a857cb1d",
   "metadata": {
    "ExecuteTime": {
     "end_time": "2023-10-14T09:52:10.359424Z",
     "start_time": "2023-10-14T09:52:06.508421Z"
    },
    "collapsed": false
   },
   "outputs": [
    {
     "name": "stdout",
     "output_type": "stream",
     "text": [
      "63/63 [==============================] - 0s 7ms/step - loss: 1.5544 - accuracy: 0.7299\n"
     ]
    }
   ],
   "source": [
    "x_test = np.array(x_test).reshape(-1, 28, 28, 3)\n",
    "loss, acc = model.evaluate(x_test, y_test, verbose=1)"
   ]
  },
  {
   "cell_type": "markdown",
   "id": "69534577",
   "metadata": {},
   "source": [
    "# Save\n"
   ]
  },
  {
   "cell_type": "code",
   "execution_count": 50,
   "id": "2886adc803e21634",
   "metadata": {
    "ExecuteTime": {
     "end_time": "2023-10-14T09:52:06.509887Z",
     "start_time": "2023-10-14T09:52:06.420125Z"
    },
    "collapsed": false
   },
   "outputs": [
    {
     "name": "stderr",
     "output_type": "stream",
     "text": [
      "/Users/sundar/miniforge3/envs/myenv/lib/python3.9/site-packages/keras/src/engine/training.py:3000: UserWarning: You are saving your model as an HDF5 file via `model.save()`. This file format is considered legacy. We recommend using instead the native Keras format, e.g. `model.save('my_model.keras')`.\n",
      "  saving_api.save_model(\n"
     ]
    }
   ],
   "source": [
    "model.save('./model/Skin_Cancer.h5')"
   ]
  },
  {
   "cell_type": "code",
   "execution_count": 20,
   "id": "68b1794d",
   "metadata": {},
   "outputs": [
    {
     "name": "stdout",
     "output_type": "stream",
     "text": [
      "       pixel0000  pixel0001  pixel0002  pixel0003  pixel0004  pixel0005  \\\n",
      "4155         233        172        183        231        168        181   \n",
      "9925         237        141        161        238        151        175   \n",
      "6167         199         98         98        201         99        102   \n",
      "5165         193        100        128        178         83        112   \n",
      "2928         183        141        136        186        142        135   \n",
      "...          ...        ...        ...        ...        ...        ...   \n",
      "10007         26         13         19         25         10         17   \n",
      "3878         210        125        127        209        117        127   \n",
      "6162         232        145        157        234        145        157   \n",
      "9162         155        137        136        159        142        144   \n",
      "9733         148        114        106        155        122        117   \n",
      "\n",
      "       pixel0006  pixel0007  pixel0008  pixel0009  ...  pixel2343  pixel2344  \\\n",
      "4155         234        171        187        236  ...        224        169   \n",
      "9925         238        158        179        238  ...        239        175   \n",
      "6167         199        100        100        202  ...        197        111   \n",
      "5165         119         45         64        142  ...        180        107   \n",
      "2928         186        137        126        192  ...        191        160   \n",
      "...          ...        ...        ...        ...  ...        ...        ...   \n",
      "10007         24          6          5         23  ...         22          6   \n",
      "3878         216        138        148        218  ...        199        119   \n",
      "6162         236        147        159        236  ...        215        135   \n",
      "9162         162        145        148        161  ...        166        148   \n",
      "9733         150        108        100        149  ...        163        121   \n",
      "\n",
      "       pixel2345  pixel2346  pixel2347  pixel2348  pixel2349  pixel2350  \\\n",
      "4155         179        223        170        178        224        175   \n",
      "9925         179        237        152        148        237        134   \n",
      "6167         105        195        108        104        192        104   \n",
      "5165         105        168        100        101        160         98   \n",
      "2928         160        179        145        147        163        126   \n",
      "...          ...        ...        ...        ...        ...        ...   \n",
      "10007          9         27          9         10         23          5   \n",
      "3878         121        199        121        122        192        109   \n",
      "6162         133        215        138        137        213        141   \n",
      "9162         153        166        148        153        163        144   \n",
      "9733         125        154        111        114        152        110   \n",
      "\n",
      "       pixel2351  label  \n",
      "4155         183      4  \n",
      "9925         126      0  \n",
      "6167         103      4  \n",
      "5165          96      4  \n",
      "2928         128      1  \n",
      "...          ...    ...  \n",
      "10007          6      0  \n",
      "3878         111      4  \n",
      "6162         135      4  \n",
      "9162         149      4  \n",
      "9733         114      0  \n",
      "\n",
      "[2003 rows x 2353 columns]\n"
     ]
    },
    {
     "ename": "ValueError",
     "evalue": "too many values to unpack (expected 2)",
     "output_type": "error",
     "traceback": [
      "\u001b[0;31m---------------------------------------------------------------------------\u001b[0m",
      "\u001b[0;31mValueError\u001b[0m                                Traceback (most recent call last)",
      "\u001b[1;32m/Users/sundar/Projects/Skin-cancer/Skin_Cancer_Classification.ipynb Cell 25\u001b[0m line \u001b[0;36m1\n\u001b[1;32m      <a href='vscode-notebook-cell:/Users/sundar/Projects/Skin-cancer/Skin_Cancer_Classification.ipynb#X34sZmlsZQ%3D%3D?line=8'>9</a>\u001b[0m y_pred \u001b[39m=\u001b[39m []\n\u001b[1;32m     <a href='vscode-notebook-cell:/Users/sundar/Projects/Skin-cancer/Skin_Cancer_Classification.ipynb#X34sZmlsZQ%3D%3D?line=10'>11</a>\u001b[0m \u001b[39mfor\u001b[39;00m batch \u001b[39min\u001b[39;00m test_set\u001b[39m.\u001b[39mvalues:\n\u001b[0;32m---> <a href='vscode-notebook-cell:/Users/sundar/Projects/Skin-cancer/Skin_Cancer_Classification.ipynb#X34sZmlsZQ%3D%3D?line=11'>12</a>\u001b[0m     images, labels \u001b[39m=\u001b[39m batch\n\u001b[1;32m     <a href='vscode-notebook-cell:/Users/sundar/Projects/Skin-cancer/Skin_Cancer_Classification.ipynb#X34sZmlsZQ%3D%3D?line=12'>13</a>\u001b[0m     predictions \u001b[39m=\u001b[39m model\u001b[39m.\u001b[39mpredict(images)\n\u001b[1;32m     <a href='vscode-notebook-cell:/Users/sundar/Projects/Skin-cancer/Skin_Cancer_Classification.ipynb#X34sZmlsZQ%3D%3D?line=13'>14</a>\u001b[0m     predicted_labels \u001b[39m=\u001b[39m np\u001b[39m.\u001b[39margmax(predictions, axis\u001b[39m=\u001b[39m\u001b[39m1\u001b[39m)\u001b[39m.\u001b[39mtolist()\n",
      "\u001b[0;31mValueError\u001b[0m: too many values to unpack (expected 2)"
     ]
    }
   ],
   "source": [
    "import tensorflow as tf\n",
    "from sklearn.metrics import classification_report, confusion_matrix\n",
    "import numpy as np\n",
    "\n",
    "model = tf.keras.models.load_model('./model/Skin_Cancer.h5')\n",
    "print(test_set)\n",
    "\n",
    "y_true = []\n",
    "y_pred = []\n",
    "\n",
    "for batch in test_set.values:\n",
    "    images, labels = batch\n",
    "    predictions = model.predict(images)\n",
    "    predicted_labels = np.argmax(predictions, axis=1).tolist()\n",
    "\n",
    "    y_true.extend(labels.numpy().tolist())\n",
    "    y_pred.extend(predicted_labels)\n",
    "\n",
    "# Convert lists to numpy arrays\n",
    "y_true = np.array(y_true)\n",
    "y_pred = np.array(y_pred)\n",
    "\n",
    "# Generate classification report\n",
    "# Replace with your actual class names\n",
    "target_names = [\"class_0\", \"class_1\", ...]\n",
    "report = classification_report(y_true, y_pred, target_names=target_names)\n",
    "\n",
    "print(\"Classification Report:\")\n",
    "print(report)\n",
    "\n",
    "# Additionally, you can print confusion matrix\n",
    "conf_matrix = confusion_matrix(y_true, y_pred)\n",
    "print(\"\\nConfusion Matrix:\")\n",
    "print(conf_matrix)"
   ]
  },
  {
   "cell_type": "code",
   "execution_count": 34,
   "id": "23b05d1cd8e4c831",
   "metadata": {
    "ExecuteTime": {
     "end_time": "2023-10-14T09:58:10.705034Z",
     "start_time": "2023-10-14T09:58:10.633336Z"
    },
    "collapsed": false
   },
   "outputs": [
    {
     "data": {
      "image/png": "[encoded data removed]",
      "text/plain": [
       "<Figure size 640x480 with 1 Axes>"
      ]
     },
     "metadata": {},
     "output_type": "display_data"
    },
    {
     "name": "stdout",
     "output_type": "stream",
     "text": [
      "1/1 [==============================] - 1s 1s/step\n",
      "[9.9673069e-01 6.0877269e-11 1.3526928e-06 2.9094052e-09 2.4159742e-03\n",
      " 1.1053947e-08 8.5196400e-04]\n",
      "('akiec', 'actinic keratoses and intraepithelial carcinomae')\n"
     ]
    }
   ],
   "source": [
    "\n",
    "import PIL\n",
    "import matplotlib.pyplot as plt\n",
    "import numpy as np\n",
    "\n",
    "image = PIL.Image.open('Skin_Cancer/train/akiec/ISIC_0024372.jpg')\n",
    "image = image.resize((28, 28))\n",
    "\n",
    "\n",
    "img = np.array(image)\n",
    "model = tf.keras.models.load_model('./model/Skin_Cancer.h5')\n",
    "\n",
    "\n",
    "plt.imshow(img)\n",
    "plt.axis('off')\n",
    "plt.show()\n",
    "\n",
    "img = x_test[1]\n",
    "img = np.array(image).reshape(-1, 28, 28, 3)\n",
    "result = model.predict(img)\n",
    "print(result[0])\n",
    "result = result.tolist()\n",
    "max_prob = max(result[0])\n",
    "class_ind = result[0].index(max_prob)\n",
    "print(classes[class_ind])"
   ]
  }
 ],
 "metadata": {
  "kernelspec": {
   "display_name": "Python 3",
   "language": "python",
   "name": "python3"
  },
  "language_info": {
   "codemirror_mode": {
    "name": "ipython",
    "version": 3
   },
   "file_extension": ".py",
   "mimetype": "text/x-python",
   "name": "python",
   "nbconvert_exporter": "python",
   "pygments_lexer": "ipython3",
   "version": "3.9.18"
  }
 },
 "nbformat": 4,
 "nbformat_minor": 5
}
