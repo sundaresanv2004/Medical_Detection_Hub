{
 "cells": [
  {
   "cell_type": "code",
   "execution_count": 1,
   "id": "initial_id",
   "metadata": {
    "ExecuteTime": {
     "end_time": "2023-10-06T13:04:47.345909Z",
     "start_time": "2023-10-06T13:04:46.906343Z"
    },
    "collapsed": true
   },
   "outputs": [],
   "source": [
    "import pandas as pd\n",
    "import os\n",
    "import shutil"
   ]
  },
  {
   "cell_type": "code",
   "execution_count": 2,
   "id": "3622ae3df9d62cf1",
   "metadata": {
    "ExecuteTime": {
     "end_time": "2023-10-06T13:04:47.377165Z",
     "start_time": "2023-10-06T13:04:47.346171Z"
    },
    "collapsed": false
   },
   "outputs": [
    {
     "data": {
      "text/html": [
       "<div>\n",
       "<style scoped>\n",
       "    .dataframe tbody tr th:only-of-type {\n",
       "        vertical-align: middle;\n",
       "    }\n",
       "\n",
       "    .dataframe tbody tr th {\n",
       "        vertical-align: top;\n",
       "    }\n",
       "\n",
       "    .dataframe thead th {\n",
       "        text-align: right;\n",
       "    }\n",
       "</style>\n",
       "<table border=\"1\" class=\"dataframe\">\n",
       "  <thead>\n",
       "    <tr style=\"text-align: right;\">\n",
       "      <th></th>\n",
       "      <th>lesion_id</th>\n",
       "      <th>image_id</th>\n",
       "      <th>dx</th>\n",
       "      <th>dx_type</th>\n",
       "      <th>age</th>\n",
       "      <th>sex</th>\n",
       "      <th>localization</th>\n",
       "      <th>path</th>\n",
       "    </tr>\n",
       "  </thead>\n",
       "  <tbody>\n",
       "    <tr>\n",
       "      <th>0</th>\n",
       "      <td>HAM_0000118</td>\n",
       "      <td>ISIC_0027419</td>\n",
       "      <td>bkl</td>\n",
       "      <td>histo</td>\n",
       "      <td>80.0</td>\n",
       "      <td>male</td>\n",
       "      <td>scalp</td>\n",
       "      <td>Skin_Cancer_data/HAM10000_images_part_1/ISIC_0...</td>\n",
       "    </tr>\n",
       "    <tr>\n",
       "      <th>1</th>\n",
       "      <td>HAM_0000118</td>\n",
       "      <td>ISIC_0025030</td>\n",
       "      <td>bkl</td>\n",
       "      <td>histo</td>\n",
       "      <td>80.0</td>\n",
       "      <td>male</td>\n",
       "      <td>scalp</td>\n",
       "      <td>Skin_Cancer_data/HAM10000_images_part_1/ISIC_0...</td>\n",
       "    </tr>\n",
       "    <tr>\n",
       "      <th>2</th>\n",
       "      <td>HAM_0002730</td>\n",
       "      <td>ISIC_0026769</td>\n",
       "      <td>bkl</td>\n",
       "      <td>histo</td>\n",
       "      <td>80.0</td>\n",
       "      <td>male</td>\n",
       "      <td>scalp</td>\n",
       "      <td>Skin_Cancer_data/HAM10000_images_part_1/ISIC_0...</td>\n",
       "    </tr>\n",
       "    <tr>\n",
       "      <th>3</th>\n",
       "      <td>HAM_0002730</td>\n",
       "      <td>ISIC_0025661</td>\n",
       "      <td>bkl</td>\n",
       "      <td>histo</td>\n",
       "      <td>80.0</td>\n",
       "      <td>male</td>\n",
       "      <td>scalp</td>\n",
       "      <td>Skin_Cancer_data/HAM10000_images_part_1/ISIC_0...</td>\n",
       "    </tr>\n",
       "    <tr>\n",
       "      <th>4</th>\n",
       "      <td>HAM_0001466</td>\n",
       "      <td>ISIC_0031633</td>\n",
       "      <td>bkl</td>\n",
       "      <td>histo</td>\n",
       "      <td>75.0</td>\n",
       "      <td>male</td>\n",
       "      <td>ear</td>\n",
       "      <td>Skin_Cancer_data/HAM10000_images_part_2/ISIC_0...</td>\n",
       "    </tr>\n",
       "  </tbody>\n",
       "</table>\n",
       "</div>"
      ],
      "text/plain": [
       "     lesion_id      image_id   dx dx_type   age   sex localization  \\\n",
       "0  HAM_0000118  ISIC_0027419  bkl   histo  80.0  male        scalp   \n",
       "1  HAM_0000118  ISIC_0025030  bkl   histo  80.0  male        scalp   \n",
       "2  HAM_0002730  ISIC_0026769  bkl   histo  80.0  male        scalp   \n",
       "3  HAM_0002730  ISIC_0025661  bkl   histo  80.0  male        scalp   \n",
       "4  HAM_0001466  ISIC_0031633  bkl   histo  75.0  male          ear   \n",
       "\n",
       "                                                path  \n",
       "0  Skin_Cancer_data/HAM10000_images_part_1/ISIC_0...  \n",
       "1  Skin_Cancer_data/HAM10000_images_part_1/ISIC_0...  \n",
       "2  Skin_Cancer_data/HAM10000_images_part_1/ISIC_0...  \n",
       "3  Skin_Cancer_data/HAM10000_images_part_1/ISIC_0...  \n",
       "4  Skin_Cancer_data/HAM10000_images_part_2/ISIC_0...  "
      ]
     },
     "execution_count": 2,
     "metadata": {},
     "output_type": "execute_result"
    }
   ],
   "source": [
    "df = pd.read_csv('Skin_Cancer_data/HAM10000_metadata_updated.csv')\n",
    "df.head()"
   ]
  },
  {
   "cell_type": "code",
   "execution_count": 3,
   "id": "9a0bb1600f885f73",
   "metadata": {
    "ExecuteTime": {
     "end_time": "2023-10-06T13:08:09.383144Z",
     "start_time": "2023-10-06T13:08:09.376096Z"
    },
    "collapsed": false
   },
   "outputs": [],
   "source": [
    "directory = os.getcwd()\n",
    "path_ = [\"train\", \"test\", \"validate\"]\n",
    "classes = df['dx'].unique()\n",
    "for j in path_:\n",
    "    for i in classes:\n",
    "        if not os.path.exists(f\"Skin_Cancer_data/{j}/{i}\"):\n",
    "            os.makedirs(f\"Skin_Cancer_data/{j}/{i}\") "
   ]
  },
  {
   "cell_type": "code",
   "execution_count": 4,
   "id": "6db0604eda7531ae",
   "metadata": {
    "ExecuteTime": {
     "end_time": "2023-10-07T11:51:49.500584Z",
     "start_time": "2023-10-07T11:51:49.497406Z"
    },
    "collapsed": false
   },
   "outputs": [
    {
     "name": "stdout",
     "output_type": "stream",
     "text": [
      "['bkl' 'nv' 'df' 'mel' 'vasc' 'bcc' 'akiec']\n"
     ]
    }
   ],
   "source": [
    "print(classes)\n",
    "train = {'bkl': 768, 'nv': 4693, 'df':80, 'mel': 779, 'vasc': 100, 'bcc': 358, 'akiec': 229}\n",
    "test = {'bkl': 165, 'nv': 1006, 'df':17, 'mel': 167, 'vasc': 21, 'bcc': 78, 'akiec': 49}\n",
    "val = {'bkl': 165, 'nv': 1006, 'df':18, 'mel': 167, 'vasc': 21, 'bcc': 78, 'akiec': 49}"
   ]
  },
  {
   "cell_type": "code",
   "execution_count": 11,
   "id": "6ecbdbb2ab079eba",
   "metadata": {
    "ExecuteTime": {
     "end_time": "2023-10-07T12:07:01.112552Z",
     "start_time": "2023-10-07T12:07:00.214016Z"
    },
    "collapsed": false
   },
   "outputs": [
    {
     "ename": "Error",
     "evalue": "Destination path 'Skin_Cancer_data/train/bkl/ISIC_0027419.jpg' already exists",
     "output_type": "error",
     "traceback": [
      "\u001b[0;31m---------------------------------------------------------------------------\u001b[0m",
      "\u001b[0;31mError\u001b[0m                                     Traceback (most recent call last)",
      "\u001b[1;32m/Users/sundar/Projects/Skin-cancer/data_split.ipynb Cell 5\u001b[0m line \u001b[0;36m1\n\u001b[1;32m      <a href='vscode-notebook-cell:/Users/sundar/Projects/Skin-cancer/data_split.ipynb#W4sZmlsZQ%3D%3D?line=8'>9</a>\u001b[0m     source \u001b[39m=\u001b[39m df\u001b[39m.\u001b[39miloc[k, \u001b[39m-\u001b[39m\u001b[39m1\u001b[39m]\n\u001b[1;32m     <a href='vscode-notebook-cell:/Users/sundar/Projects/Skin-cancer/data_split.ipynb#W4sZmlsZQ%3D%3D?line=9'>10</a>\u001b[0m     destination \u001b[39m=\u001b[39m \u001b[39mf\u001b[39m\u001b[39m\"\u001b[39m\u001b[39mSkin_Cancer_data/\u001b[39m\u001b[39m{\u001b[39;00mi\u001b[39m}\u001b[39;00m\u001b[39m/\u001b[39m\u001b[39m{\u001b[39;00mj\u001b[39m}\u001b[39;00m\u001b[39m/\u001b[39m\u001b[39m\"\u001b[39m\n\u001b[0;32m---> <a href='vscode-notebook-cell:/Users/sundar/Projects/Skin-cancer/data_split.ipynb#W4sZmlsZQ%3D%3D?line=10'>11</a>\u001b[0m     shutil\u001b[39m.\u001b[39;49mmove(source, destination)\n\u001b[1;32m     <a href='vscode-notebook-cell:/Users/sundar/Projects/Skin-cancer/data_split.ipynb#W4sZmlsZQ%3D%3D?line=11'>12</a>\u001b[0m     temp[j] \u001b[39m+\u001b[39m\u001b[39m=\u001b[39m \u001b[39m1\u001b[39m\n\u001b[1;32m     <a href='vscode-notebook-cell:/Users/sundar/Projects/Skin-cancer/data_split.ipynb#W4sZmlsZQ%3D%3D?line=12'>13</a>\u001b[0m \u001b[39mexcept\u001b[39;00m \u001b[39mFileNotFoundError\u001b[39;00m:\n",
      "File \u001b[0;32m~/miniforge3/envs/myenv/lib/python3.9/shutil.py:823\u001b[0m, in \u001b[0;36mmove\u001b[0;34m(src, dst, copy_function)\u001b[0m\n\u001b[1;32m    820\u001b[0m     real_dst \u001b[39m=\u001b[39m os\u001b[39m.\u001b[39mpath\u001b[39m.\u001b[39mjoin(dst, _basename(src))\n\u001b[1;32m    822\u001b[0m     \u001b[39mif\u001b[39;00m os\u001b[39m.\u001b[39mpath\u001b[39m.\u001b[39mexists(real_dst):\n\u001b[0;32m--> 823\u001b[0m         \u001b[39mraise\u001b[39;00m Error(\u001b[39m\"\u001b[39m\u001b[39mDestination path \u001b[39m\u001b[39m'\u001b[39m\u001b[39m%s\u001b[39;00m\u001b[39m'\u001b[39m\u001b[39m already exists\u001b[39m\u001b[39m\"\u001b[39m \u001b[39m%\u001b[39m real_dst)\n\u001b[1;32m    824\u001b[0m \u001b[39mtry\u001b[39;00m:\n\u001b[1;32m    825\u001b[0m     os\u001b[39m.\u001b[39mrename(src, real_dst)\n",
      "\u001b[0;31mError\u001b[0m: Destination path 'Skin_Cancer_data/train/bkl/ISIC_0027419.jpg' already exists"
     ]
    }
   ],
   "source": [
    "for i in path_:\n",
    "    temp = {'bkl': 0, 'nv': 0, 'df':0, 'mel': 0, 'vasc': 0, 'bcc': 0, 'akiec': 0}\n",
    "    for j in classes:\n",
    "        for k in range(len(df)):\n",
    "            if \"train\" == i:\n",
    "                if j == df.iloc[k, 2]:\n",
    "                    if temp[j] < train[j]:\n",
    "                        try:\n",
    "                            source = df.iloc[k, -1]\n",
    "                            destination = f\"Skin_Cancer_data/{i}/{j}/\"\n",
    "                            shutil.move(source, destination)\n",
    "                            temp[j] += 1\n",
    "                        except FileNotFoundError:\n",
    "                            pass\n",
    "                    else:\n",
    "                        break"
   ]
  },
  {
   "cell_type": "code",
   "execution_count": null,
   "id": "d3f190e2b3a83880",
   "metadata": {
    "ExecuteTime": {
     "end_time": "2023-10-07T11:53:13.908795Z",
     "start_time": "2023-10-07T11:53:13.897713Z"
    },
    "collapsed": false
   },
   "outputs": [],
   "source": []
  }
 ],
 "metadata": {
  "kernelspec": {
   "display_name": "Python 3",
   "language": "python",
   "name": "python3"
  },
  "language_info": {
   "codemirror_mode": {
    "name": "ipython",
    "version": 3
   },
   "file_extension": ".py",
   "mimetype": "text/x-python",
   "name": "python",
   "nbconvert_exporter": "python",
   "pygments_lexer": "ipython3",
   "version": "3.9.18"
  }
 },
 "nbformat": 4,
 "nbformat_minor": 5
}
